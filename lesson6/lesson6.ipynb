{
  "nbformat": 4,
  "nbformat_minor": 0,
  "metadata": {
    "kernelspec": {
      "display_name": "Python 3",
      "language": "python",
      "name": "python3"
    },
    "language_info": {
      "codemirror_mode": {
        "name": "ipython",
        "version": 3
      },
      "file_extension": ".py",
      "mimetype": "text/x-python",
      "name": "python",
      "nbconvert_exporter": "python",
      "pygments_lexer": "ipython3",
      "version": "3.7.1"
    },
    "colab": {
      "name": "lesson6.ipynb",
      "provenance": [],
      "collapsed_sections": [
        "Rg5ilDbTbshs",
        "Z2tMUhhXbsjK"
      ]
    }
  },
  "cells": [
    {
      "cell_type": "markdown",
      "metadata": {
        "id": "qTdnsVCnbshu",
        "colab_type": "text"
      },
      "source": [
        "## Для реализованной в методичке модели градиентного бустинга построить графики зависимости ошибки от количества деревьев в ансамбле и от максимальной глубины деревьев. Сделать выводы о зависимости ошибки от этих параметров."
      ]
    },
    {
      "cell_type": "code",
      "metadata": {
        "id": "Qk-74OFhbshx",
        "colab_type": "code",
        "colab": {}
      },
      "source": [
        "from sklearn.tree import DecisionTreeRegressor\n",
        "\n",
        "from sklearn import model_selection\n",
        "import numpy as np\n",
        "from sklearn.datasets import load_diabetes\n",
        "X, y = load_diabetes(return_X_y=True)\n",
        "X_train, X_test, y_train, y_test = model_selection.train_test_split(X, y, test_size=0.25)\n",
        "def gb_predict(X, trees_list, coef_list, eta):\n",
        "    # Реализуемый алгоритм градиентного бустинга будет инициализироваться нулевыми значениями,\n",
        "    # поэтому все деревья из списка trees_list уже являются дополнительными и при предсказании прибавляются с шагом eta\n",
        "    return np.array([sum([eta* coef * alg.predict([x])[0] for alg, coef in zip(trees_list, coef_list)]) for x in X])\n",
        "\n",
        "def mean_squared_error(y_real, prediction):\n",
        "    return (sum((y_real - prediction)**2)) / len(y_real)\n",
        "\n",
        "def bias(y, z):\n",
        "    return (y - z)\n",
        "\n",
        "def gb_fit(n_trees, max_depth, X_train, X_test, y_train, y_test, coefs, eta):\n",
        "    \n",
        "    # Деревья будем записывать в список\n",
        "    trees = []\n",
        "    \n",
        "    # Будем записывать ошибки на обучающей и тестовой выборке на каждой итерации в список\n",
        "    train_errors = []\n",
        "    test_errors = []\n",
        "    \n",
        "    for i in range(n_trees):\n",
        "        tree = DecisionTreeRegressor(max_depth=max_depth, random_state=42)\n",
        "\n",
        "        # инициализируем бустинг начальным алгоритмом, возвращающим ноль, \n",
        "        # поэтому первый алгоритм просто обучаем на выборке и добавляем в список\n",
        "        if len(trees) == 0:\n",
        "            # обучаем первое дерево на обучающей выборке\n",
        "            tree.fit(X_train, y_train)\n",
        "            \n",
        "            train_errors.append(mean_squared_error(y_train, gb_predict(X_train, trees, coefs, eta)))\n",
        "            test_errors.append(mean_squared_error(y_test, gb_predict(X_test, trees, coefs, eta)))\n",
        "        else:\n",
        "            # Получим ответы на текущей композиции\n",
        "            target = gb_predict(X_train, trees, coefs, eta)\n",
        "            \n",
        "            # алгоритмы начиная со второго обучаем на сдвиг\n",
        "            tree.fit(X_train, bias(y_train, target))\n",
        "            \n",
        "            train_errors.append(mean_squared_error(y_train, gb_predict(X_train, trees, coefs, eta)))\n",
        "            test_errors.append(mean_squared_error(y_test, gb_predict(X_test, trees, coefs, eta)))\n",
        "\n",
        "        trees.append(tree)\n",
        "        \n",
        "    return trees, train_errors, test_errors"
      ],
      "execution_count": 0,
      "outputs": []
    },
    {
      "cell_type": "code",
      "metadata": {
        "id": "2WvxluSlbsiO",
        "colab_type": "code",
        "colab": {}
      },
      "source": [
        "def get_errors(max_trees, X_train, X_test, y_train, y_test, mode='iterate_num_trees', max_depth=3, eta=1):\n",
        "  last_train_errors = []\n",
        "  last_test_errors =  []\n",
        "  if mode == 'iterate_num_trees':\n",
        "    for n in range(1,max_trees+1):\n",
        "      coefs = [1] * n\n",
        "      trees, train_errors, test_errors = gb_fit(n, max_depth, X_train, X_test, y_train, y_test, coefs, eta)\n",
        "      train_prediction = gb_predict(X_train, trees, coefs, eta)\n",
        "      last_train_errors.append(mean_squared_error(y_train, train_prediction))\n",
        "      test_prediction = gb_predict(X_test, trees, coefs, eta)\n",
        "      last_test_errors.append(mean_squared_error(y_test, test_prediction))\n",
        "  elif mode == 'iterate_max_depth':\n",
        "    for n in range(1,max_depth+1):\n",
        "      coefs = [1] * max_trees\n",
        "      trees, train_errors, test_errors = gb_fit(max_trees, n, X_train, X_test, y_train, y_test, coefs, eta)\n",
        "      train_prediction = gb_predict(X_train, trees, coefs, eta)\n",
        "      last_train_errors.append(mean_squared_error(y_train, train_prediction))\n",
        "      test_prediction = gb_predict(X_test, trees, coefs, eta)\n",
        "      last_test_errors.append(mean_squared_error(y_test, test_prediction))\n",
        "  return last_train_errors, last_test_errors\n"
      ],
      "execution_count": 0,
      "outputs": []
    },
    {
      "cell_type": "code",
      "metadata": {
        "id": "WluOSrK0vhNK",
        "colab_type": "code",
        "colab": {}
      },
      "source": [
        "import matplotlib.pyplot as plt\n",
        "def get_error_plot(n_trees, train_err, test_err, mode='num_trees', label_1='train error', label_2='test error'):\n",
        "    if mode == 'num_trees':\n",
        "      plt.xlabel('Number of trees')\n",
        "    elif mode == 'max_depth':\n",
        "      plt.xlabel('Max depth of trees')\n",
        "    plt.ylabel('MSE')\n",
        "    plt.xlim(1, n_trees+1)\n",
        "    plt.plot(list(range(1,n_trees+1)), train_err, label=label_1)\n",
        "    plt.plot(list(range(1, n_trees+1)), test_err, label=label_2)\n",
        "    plt.legend(loc='upper right')\n",
        "    plt.show()"
      ],
      "execution_count": 0,
      "outputs": []
    },
    {
      "cell_type": "code",
      "metadata": {
        "id": "blZHC-bfvGHk",
        "colab_type": "code",
        "colab": {
          "base_uri": "https://localhost:8080/",
          "height": 279
        },
        "outputId": "01327a66-6679-47a7-bcba-89614a1500d8"
      },
      "source": [
        "iterate_num_trees = 10\n",
        "num_trees_train_errors, num_trees_test_errors = get_errors(iterate_num_trees, X_train, X_test, y_train, y_test, mode='iterate_num_trees')\n",
        "\n",
        "get_error_plot(iterate_num_trees, num_trees_train_errors, num_trees_test_errors, mode='num_trees')"
      ],
      "execution_count": 23,
      "outputs": [
        {
          "output_type": "display_data",
          "data": {
            "image/png": "[encoded data removed]",
            "text/plain": [
              "<Figure size 432x288 with 1 Axes>"
            ]
          },
          "metadata": {
            "tags": [],
            "needs_background": "light"
          }
        }
      ]
    },
    {
      "cell_type": "markdown",
      "metadata": {
        "id": "sFTKLwL7x2UF",
        "colab_type": "text"
      },
      "source": [
        "Вывод: мы видим, что наиболее оптимальным количеством деревьев является 3 - далее уже идет переобучение"
      ]
    },
    {
      "cell_type": "code",
      "metadata": {
        "id": "iHyb2mIRvIjp",
        "colab_type": "code",
        "colab": {
          "base_uri": "https://localhost:8080/",
          "height": 281
        },
        "outputId": "3aeb2254-693f-4d7d-db0c-16f5315b09e0"
      },
      "source": [
        "iterate_max_depth = 10\n",
        "max_depth_train_errors, max_depth_test_errors = get_errors(3, X_train, X_test, y_train, y_test, mode='iterate_max_depth', max_depth=iterate_max_depth)\n",
        "get_error_plot(iterate_max_depth, max_depth_train_errors, max_depth_test_errors, mode='max_depth')"
      ],
      "execution_count": 26,
      "outputs": [
        {
          "output_type": "display_data",
          "data": {
            "image/png": "[encoded data removed]",
            "text/plain": [
              "<Figure size 432x288 with 1 Axes>"
            ]
          },
          "metadata": {
            "tags": [],
            "needs_background": "light"
          }
        }
      ]
    },
    {
      "cell_type": "markdown",
      "metadata": {
        "id": "tfzW3hT1x-By",
        "colab_type": "text"
      },
      "source": [
        "Вывод: мы видим, что наиболее оптимальной глубиной деревьев является 1 , далее идет переобучение. "
      ]
    },
    {
      "cell_type": "markdown",
      "metadata": {
        "id": "0ZHv26WayXru",
        "colab_type": "text"
      },
      "source": [
        "## Задание 2 Модифицировать реализованный алгоритм, чтобы получился стохастический градиентный бустинг. Размер подвыборки принять равным 0.5.Сравнить на одном графике кривые  изменения ошибки на тестовой выборке в зависимости от  числа итераций."
      ]
    },
    {
      "cell_type": "code",
      "metadata": {
        "id": "MJ4jSEi5ygDH",
        "colab_type": "code",
        "colab": {}
      },
      "source": [
        "from sklearn.tree import DecisionTreeRegressor\n",
        "\n",
        "from sklearn import model_selection\n",
        "import numpy as np\n",
        "from sklearn.datasets import load_diabetes\n",
        "X, y = load_diabetes(return_X_y=True)\n",
        "X_train, X_test, y_train, y_test = model_selection.train_test_split(X, y, test_size=0.25)\n",
        "def gb_predict(X, trees_list, coef_list, eta):\n",
        "    # Реализуемый алгоритм градиентного бустинга будет инициализироваться нулевыми значениями,\n",
        "    # поэтому все деревья из списка trees_list уже являются дополнительными и при предсказании прибавляются с шагом eta\n",
        "    return np.array([sum([eta* coef * alg.predict([x])[0] for alg, coef in zip(trees_list, coef_list)]) for x in X])\n",
        "\n",
        "def mean_squared_error(y_real, prediction):\n",
        "    return (sum((y_real - prediction)**2)) / len(y_real)\n",
        "\n",
        "def bias(y, z):\n",
        "    return (y - z)\n",
        "\n",
        "def gb_fit_stochastic(n_trees, max_depth, X, y, coefs, eta):\n",
        "    \n",
        "    # Деревья будем записывать в список\n",
        "    trees = []\n",
        "    \n",
        "    # Будем записывать ошибки на обучающей и тестовой выборке на каждой итерации в список\n",
        "    train_errors = []\n",
        "    test_errors = []\n",
        "    \n",
        "    for i in range(n_trees):\n",
        "        tree = DecisionTreeRegressor(max_depth=max_depth, random_state=42)\n",
        "        X_train, X_test, y_train, y_test = model_selection.train_test_split(X, y, test_size=0.5, shuffle = True)\n",
        "        # инициализируем бустинг начальным алгоритмом, возвращающим ноль, \n",
        "        # поэтому первый алгоритм просто обучаем на выборке и добавляем в список\n",
        "        if len(trees) == 0:\n",
        "            # обучаем первое дерево на обучающей выборке\n",
        "            tree.fit(X_train, y_train)\n",
        "            \n",
        "            train_errors.append(mean_squared_error(y_train, gb_predict(X_train, trees, coefs, eta)))\n",
        "            test_errors.append(mean_squared_error(y_test, gb_predict(X_test, trees, coefs, eta)))\n",
        "        else:\n",
        "            # Получим ответы на текущей композиции\n",
        "            target = gb_predict(X_train, trees, coefs, eta)\n",
        "            \n",
        "            # алгоритмы начиная со второго обучаем на сдвиг\n",
        "            tree.fit(X_train, bias(y_train, target))\n",
        "            \n",
        "            train_errors.append(mean_squared_error(y_train, gb_predict(X_train, trees, coefs, eta)))\n",
        "            test_errors.append(mean_squared_error(y_test, gb_predict(X_test, trees, coefs, eta)))\n",
        "\n",
        "        trees.append(tree)\n",
        "        \n",
        "    return trees, train_errors, test_errors\n",
        "\n",
        "\n",
        "def gb_fit(n_trees, max_depth, X_train, X_test, y_train, y_test, coefs, eta):\n",
        "    \n",
        "    # Деревья будем записывать в список\n",
        "    trees = []\n",
        "    \n",
        "    # Будем записывать ошибки на обучающей и тестовой выборке на каждой итерации в список\n",
        "    train_errors = []\n",
        "    test_errors = []\n",
        "    \n",
        "    for i in range(n_trees):\n",
        "        tree = DecisionTreeRegressor(max_depth=max_depth, random_state=42)\n",
        "\n",
        "        # инициализируем бустинг начальным алгоритмом, возвращающим ноль, \n",
        "        # поэтому первый алгоритм просто обучаем на выборке и добавляем в список\n",
        "        if len(trees) == 0:\n",
        "            # обучаем первое дерево на обучающей выборке\n",
        "            tree.fit(X_train, y_train)\n",
        "            \n",
        "            train_errors.append(mean_squared_error(y_train, gb_predict(X_train, trees, coefs, eta)))\n",
        "            test_errors.append(mean_squared_error(y_test, gb_predict(X_test, trees, coefs, eta)))\n",
        "        else:\n",
        "            # Получим ответы на текущей композиции\n",
        "            target = gb_predict(X_train, trees, coefs, eta)\n",
        "            \n",
        "            # алгоритмы начиная со второго обучаем на сдвиг\n",
        "            tree.fit(X_train, bias(y_train, target))\n",
        "            \n",
        "            train_errors.append(mean_squared_error(y_train, gb_predict(X_train, trees, coefs, eta)))\n",
        "            test_errors.append(mean_squared_error(y_test, gb_predict(X_test, trees, coefs, eta)))\n",
        "\n",
        "        trees.append(tree)\n",
        "        \n",
        "    return trees, train_errors, test_errors"
      ],
      "execution_count": 0,
      "outputs": []
    },
    {
      "cell_type": "code",
      "metadata": {
        "id": "5bjM3uvpzJT6",
        "colab_type": "code",
        "colab": {
          "base_uri": "https://localhost:8080/",
          "height": 313
        },
        "outputId": "6d9db51a-fef0-41a0-f182-d3a7cf9a5f7e"
      },
      "source": [
        "import time\n",
        "\n",
        "num_trees=50\n",
        "max_depth=3\n",
        "eta = 0.1\n",
        "coefs = [1]*num_trees\n",
        "\n",
        "start = time.time()\n",
        "stochastic_model, stochastic_train_errors, stochastic_test_errors = gb_fit_stochastic(num_trees, max_depth, X, y, coefs, eta)\n",
        "end = time.time()\n",
        "print(f\"Stochastic time elapsed {end-start} seconds\")\n",
        "\n",
        "X_train, X_test, y_train, y_test = model_selection.train_test_split(X, y, test_size=0.5, shuffle = True)\n",
        "start = time.time()\n",
        "model, train_errors, test_errors = gb_fit(num_trees, max_depth, X_train, X_test, y_train, y_test, coefs, eta)\n",
        "end = time.time()\n",
        "print(f\"Non-stochastic time elapsed {end-start} seconds\")\n",
        "\n",
        "get_error_plot(num_trees, stochastic_test_errors, test_errors, mode='num_trees',label_1='stochastic test error', label_2='non-stochastic test error')"
      ],
      "execution_count": 38,
      "outputs": [
        {
          "output_type": "stream",
          "text": [
            "Stochastic time elapsed 43.685272455215454 seconds\n",
            "Non-stochastic time elapsed 43.786827087402344 seconds\n"
          ],
          "name": "stdout"
        },
        {
          "output_type": "display_data",
          "data": {
            "image/png": "[encoded data removed]",
            "text/plain": [
              "<Figure size 432x288 with 1 Axes>"
            ]
          },
          "metadata": {
            "tags": [],
            "needs_background": "light"
          }
        }
      ]
    },
    {
      "cell_type": "markdown",
      "metadata": {
        "id": "f8xHhBsv3GjD",
        "colab_type": "text"
      },
      "source": [
        "Вывод: Мы получили меньшую ошибку на тестовом сете со стохастическим градиентным бустингом по сравнению с обычным. По времени на исполнение кода примерно одинаково."
      ]
    }
  ]
}