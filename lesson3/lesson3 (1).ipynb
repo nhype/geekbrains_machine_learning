{
  "nbformat": 4,
  "nbformat_minor": 0,
  "metadata": {
    "colab": {
      "name": "lesson3.ipynb",
      "provenance": [],
      "collapsed_sections": []
    },
    "kernelspec": {
      "display_name": "Python 3",
      "language": "python",
      "name": "python3"
    },
    "language_info": {
      "codemirror_mode": {
        "name": "ipython",
        "version": 3
      },
      "file_extension": ".py",
      "mimetype": "text/x-python",
      "name": "python",
      "nbconvert_exporter": "python",
      "pygments_lexer": "ipython3",
      "version": "3.6.9"
    }
  },
  "cells": [
    {
      "cell_type": "code",
      "metadata": {
        "colab_type": "code",
        "id": "zhwkeWtb1O0w",
        "colab": {}
      },
      "source": [
        ""
      ],
      "execution_count": 0,
      "outputs": []
    },
    {
      "cell_type": "code",
      "metadata": {
        "colab_type": "code",
        "id": "FeKFn2yb1To4",
        "colab": {}
      },
      "source": [
        ""
      ],
      "execution_count": 0,
      "outputs": []
    },
    {
      "cell_type": "code",
      "metadata": {
        "id": "fS4ZSyTrPD6V",
        "colab_type": "code",
        "colab": {}
      },
      "source": [
        "# Если предсказывать с помощью линейной регрессии, то могут появляться такие числа:\n",
        "#-1, -0.2, 1.3, 0.05 ..."
      ],
      "execution_count": 0,
      "outputs": []
    },
    {
      "cell_type": "code",
      "metadata": {
        "id": "IFlAQmfoQCqc",
        "colab_type": "code",
        "colab": {}
      },
      "source": [
        "#p [0, 1]"
      ],
      "execution_count": 0,
      "outputs": []
    },
    {
      "cell_type": "code",
      "metadata": {
        "id": "7pM_ENmXPxMN",
        "colab_type": "code",
        "colab": {}
      },
      "source": [
        "#p / (1-p)"
      ],
      "execution_count": 0,
      "outputs": []
    },
    {
      "cell_type": "code",
      "metadata": {
        "id": "OS_TUIgdPl1M",
        "colab_type": "code",
        "colab": {}
      },
      "source": [
        "#0.5 / (1-0.5)"
      ],
      "execution_count": 0,
      "outputs": []
    },
    {
      "cell_type": "code",
      "metadata": {
        "id": "J3tXMyWOPlh7",
        "colab_type": "code",
        "colab": {}
      },
      "source": [
        "#0.01 / (1 - 0.01)"
      ],
      "execution_count": 0,
      "outputs": []
    },
    {
      "cell_type": "code",
      "metadata": {
        "id": "q61xUBtbPlJp",
        "colab_type": "code",
        "colab": {}
      },
      "source": [
        "#0.9999 / (1-0.9999)"
      ],
      "execution_count": 0,
      "outputs": []
    },
    {
      "cell_type": "code",
      "metadata": {
        "id": "ImNIlxczQvf_",
        "colab_type": "code",
        "colab": {}
      },
      "source": [
        "#p = 1-1e-10\n",
        "#np.log(p / (1 - p))                       "
      ],
      "execution_count": 0,
      "outputs": []
    },
    {
      "cell_type": "code",
      "metadata": {
        "id": "MvFKM0w7Rndj",
        "colab_type": "code",
        "colab": {}
      },
      "source": [
        "#p = 0.8\n",
        "#np.log(p / (1 - p))"
      ],
      "execution_count": 0,
      "outputs": []
    },
    {
      "cell_type": "code",
      "metadata": {
        "id": "G74slpijQvIv",
        "colab_type": "code",
        "colab": {}
      },
      "source": [
        "#np.log(p / (1 - p)) # (-inf, +inf)"
      ],
      "execution_count": 0,
      "outputs": []
    },
    {
      "cell_type": "code",
      "metadata": {
        "id": "5GuJhwb6U-r_",
        "colab_type": "code",
        "colab": {}
      },
      "source": [
        "#W*X = np.log(p / (1 - p))"
      ],
      "execution_count": 0,
      "outputs": []
    },
    {
      "cell_type": "code",
      "metadata": {
        "id": "ZV4jZB6zU-ho",
        "colab_type": "code",
        "colab": {}
      },
      "source": [
        "#z = W*X"
      ],
      "execution_count": 0,
      "outputs": []
    },
    {
      "cell_type": "code",
      "metadata": {
        "id": "8JGK4ACFU-ah",
        "colab_type": "code",
        "colab": {}
      },
      "source": [
        "#z = np.log(p / (1 - p))"
      ],
      "execution_count": 0,
      "outputs": []
    },
    {
      "cell_type": "code",
      "metadata": {
        "id": "OXiri5MjU-Ro",
        "colab_type": "code",
        "colab": {}
      },
      "source": [
        "#t = p / (1 - p) => t*(1-p) = p => t - t*p = p => t = p + t*p => t/p = 1 + t => p = t / (1 + t)"
      ],
      "execution_count": 0,
      "outputs": []
    },
    {
      "cell_type": "code",
      "metadata": {
        "id": "UTY52T1UVihU",
        "colab_type": "code",
        "colab": {}
      },
      "source": [
        "#p = t / (1 + t)"
      ],
      "execution_count": 0,
      "outputs": []
    },
    {
      "cell_type": "code",
      "metadata": {
        "id": "7OsfBJYfViPh",
        "colab_type": "code",
        "colab": {}
      },
      "source": [
        "#z = np.log(t) => t = e**z => e**(W*X)"
      ],
      "execution_count": 0,
      "outputs": []
    },
    {
      "cell_type": "code",
      "metadata": {
        "id": "sC-bZpqIVhIl",
        "colab_type": "code",
        "colab": {}
      },
      "source": [
        "#p = t / (1 + t) => p = e**z / (1 + e**z) => p = 1 / (1/e**z + 1) => p = 1 / (1 + e**(-z)) => p = 1/(1 + e**(-W*X))"
      ],
      "execution_count": 0,
      "outputs": []
    },
    {
      "cell_type": "code",
      "metadata": {
        "id": "C427WiO3Vgpx",
        "colab_type": "code",
        "colab": {}
      },
      "source": [
        "#p = 1/(1 + e**(-W*X))"
      ],
      "execution_count": 0,
      "outputs": []
    },
    {
      "cell_type": "code",
      "metadata": {
        "id": "_BWaUIlmU-DY",
        "colab_type": "code",
        "colab": {}
      },
      "source": [
        ""
      ],
      "execution_count": 0,
      "outputs": []
    },
    {
      "cell_type": "code",
      "metadata": {
        "colab_type": "code",
        "id": "yXSj4nbxHsFd",
        "outputId": "0f98d913-c08c-45ed-8128-9f983af08087",
        "colab": {
          "base_uri": "https://localhost:8080/",
          "height": 153
        }
      },
      "source": [
        "X"
      ],
      "execution_count": 23,
      "outputs": [
        {
          "output_type": "execute_result",
          "data": {
            "text/plain": [
              "array([[1.00e+00, 1.00e+00, 1.00e+00, 1.00e+00, 1.00e+00, 1.00e+00,\n",
              "        1.00e+00, 1.00e+00, 1.00e+00, 1.00e+00],\n",
              "       [1.00e+00, 1.00e+00, 2.00e+00, 1.00e+00, 3.00e+00, 0.00e+00,\n",
              "        5.00e+00, 1.00e+01, 1.00e+00, 2.00e+00],\n",
              "       [5.00e+02, 7.00e+02, 7.50e+02, 6.00e+02, 1.45e+03, 8.00e+02,\n",
              "        1.50e+03, 2.00e+03, 4.50e+02, 1.00e+03],\n",
              "       [1.00e+00, 1.00e+00, 2.00e+00, 1.00e+00, 2.00e+00, 1.00e+00,\n",
              "        3.00e+00, 3.00e+00, 1.00e+00, 2.00e+00]])"
            ]
          },
          "metadata": {
            "tags": []
          },
          "execution_count": 23
        }
      ]
    },
    {
      "cell_type": "code",
      "metadata": {
        "colab_type": "code",
        "id": "QU0A16vZHugZ",
        "outputId": "904e04e3-55db-4977-86e7-b065885baa40",
        "colab": {
          "base_uri": "https://localhost:8080/",
          "height": 34
        }
      },
      "source": [
        "y"
      ],
      "execution_count": 24,
      "outputs": [
        {
          "output_type": "execute_result",
          "data": {
            "text/plain": [
              "array([0., 0., 1., 0., 1., 0., 1., 0., 1., 1.])"
            ]
          },
          "metadata": {
            "tags": []
          },
          "execution_count": 24
        }
      ]
    },
    {
      "cell_type": "code",
      "metadata": {
        "colab_type": "code",
        "id": "M-aO1NTxOUfo",
        "colab": {}
      },
      "source": [
        "def calc_std_feat(x):\n",
        "  res = (x - x.mean()) / x.std()\n",
        "  return res"
      ],
      "execution_count": 0,
      "outputs": []
    },
    {
      "cell_type": "code",
      "metadata": {
        "colab_type": "code",
        "id": "D8EL0iGJOVpe",
        "colab": {}
      },
      "source": [
        "X_st = X.copy()\n",
        "X_st[2, :] = calc_std_feat(X[2, :])"
      ],
      "execution_count": 0,
      "outputs": []
    },
    {
      "cell_type": "code",
      "metadata": {
        "colab_type": "code",
        "id": "gviMxz7EOuI3",
        "outputId": "43733d1a-b8ca-4701-fa8b-fe64d977de75",
        "colab": {
          "base_uri": "https://localhost:8080/",
          "height": 153
        }
      },
      "source": [
        "X_st"
      ],
      "execution_count": 27,
      "outputs": [
        {
          "output_type": "execute_result",
          "data": {
            "text/plain": [
              "array([[ 1.        ,  1.        ,  1.        ,  1.        ,  1.        ,\n",
              "         1.        ,  1.        ,  1.        ,  1.        ,  1.        ],\n",
              "       [ 1.        ,  1.        ,  2.        ,  1.        ,  3.        ,\n",
              "         0.        ,  5.        , 10.        ,  1.        ,  2.        ],\n",
              "       [-0.97958969, -0.56713087, -0.46401617, -0.77336028,  0.97958969,\n",
              "        -0.36090146,  1.08270439,  2.11385144, -1.08270439,  0.05155735],\n",
              "       [ 1.        ,  1.        ,  2.        ,  1.        ,  2.        ,\n",
              "         1.        ,  3.        ,  3.        ,  1.        ,  2.        ]])"
            ]
          },
          "metadata": {
            "tags": []
          },
          "execution_count": 27
        }
      ]
    },
    {
      "cell_type": "code",
      "metadata": {
        "colab_type": "code",
        "id": "qMR5pOA38dDw",
        "colab": {}
      },
      "source": [
        "def calc_logloss(y, y_pred):\n",
        "  err = - np.mean(y * np.log(y_pred) + (1.0 - y) * np.log(1.0 - y_pred))\n",
        "  return err"
      ],
      "execution_count": 0,
      "outputs": []
    },
    {
      "cell_type": "code",
      "metadata": {
        "colab_type": "code",
        "id": "R6zfOHMrBvnX",
        "outputId": "082efb38-3609-48f1-c099-f188d42de870",
        "colab": {
          "base_uri": "https://localhost:8080/",
          "height": 34
        }
      },
      "source": [
        "# Пример применения\n",
        "y1 = np.array([1, 0])\n",
        "y_pred1 = np.array([0.9, 0.1])\n",
        "calc_logloss(y1, y_pred1)"
      ],
      "execution_count": 29,
      "outputs": [
        {
          "output_type": "execute_result",
          "data": {
            "text/plain": [
              "0.10536051565782628"
            ]
          },
          "metadata": {
            "tags": []
          },
          "execution_count": 29
        }
      ]
    },
    {
      "cell_type": "code",
      "metadata": {
        "colab_type": "code",
        "id": "EEF9rWPNDnss",
        "colab": {}
      },
      "source": [
        "def sigmoid(z):\n",
        "  res = 1 / (1 + np.exp(-z))\n",
        "  return res"
      ],
      "execution_count": 0,
      "outputs": []
    },
    {
      "cell_type": "code",
      "metadata": {
        "colab_type": "code",
        "id": "_9tN8lBEEeXU",
        "outputId": "789f9052-1023-42b5-c1b0-1a5c30b82a4c",
        "colab": {
          "base_uri": "https://localhost:8080/",
          "height": 221
        }
      },
      "source": [
        "z = np.linspace(-10, 10, 101)\n",
        "z"
      ],
      "execution_count": 31,
      "outputs": [
        {
          "output_type": "execute_result",
          "data": {
            "text/plain": [
              "array([-10. ,  -9.8,  -9.6,  -9.4,  -9.2,  -9. ,  -8.8,  -8.6,  -8.4,\n",
              "        -8.2,  -8. ,  -7.8,  -7.6,  -7.4,  -7.2,  -7. ,  -6.8,  -6.6,\n",
              "        -6.4,  -6.2,  -6. ,  -5.8,  -5.6,  -5.4,  -5.2,  -5. ,  -4.8,\n",
              "        -4.6,  -4.4,  -4.2,  -4. ,  -3.8,  -3.6,  -3.4,  -3.2,  -3. ,\n",
              "        -2.8,  -2.6,  -2.4,  -2.2,  -2. ,  -1.8,  -1.6,  -1.4,  -1.2,\n",
              "        -1. ,  -0.8,  -0.6,  -0.4,  -0.2,   0. ,   0.2,   0.4,   0.6,\n",
              "         0.8,   1. ,   1.2,   1.4,   1.6,   1.8,   2. ,   2.2,   2.4,\n",
              "         2.6,   2.8,   3. ,   3.2,   3.4,   3.6,   3.8,   4. ,   4.2,\n",
              "         4.4,   4.6,   4.8,   5. ,   5.2,   5.4,   5.6,   5.8,   6. ,\n",
              "         6.2,   6.4,   6.6,   6.8,   7. ,   7.2,   7.4,   7.6,   7.8,\n",
              "         8. ,   8.2,   8.4,   8.6,   8.8,   9. ,   9.2,   9.4,   9.6,\n",
              "         9.8,  10. ])"
            ]
          },
          "metadata": {
            "tags": []
          },
          "execution_count": 31
        }
      ]
    },
    {
      "cell_type": "code",
      "metadata": {
        "colab_type": "code",
        "id": "nvIe3RpbEp4l",
        "colab": {}
      },
      "source": [
        "probabilities = sigmoid(z)"
      ],
      "execution_count": 0,
      "outputs": []
    },
    {
      "cell_type": "code",
      "metadata": {
        "colab_type": "code",
        "id": "jQsCfht0Et1V",
        "outputId": "04d60fed-db49-46fb-eee0-7a35b5d99ce2",
        "colab": {
          "base_uri": "https://localhost:8080/",
          "height": 282
        }
      },
      "source": [
        "plt.plot(z, probabilities)"
      ],
      "execution_count": 33,
      "outputs": [
        {
          "output_type": "execute_result",
          "data": {
            "text/plain": [
              "[<matplotlib.lines.Line2D at 0x7f8521696b70>]"
            ]
          },
          "metadata": {
            "tags": []
          },
          "execution_count": 33
        },
        {
          "output_type": "display_data",
          "data": {
            "image/png": "[encoded data removed]",
            "text/plain": [
              "<Figure size 432x288 with 1 Axes>"
            ]
          },
          "metadata": {
            "tags": [],
            "needs_background": "light"
          }
        }
      ]
    },
    {
      "cell_type": "code",
      "metadata": {
        "colab_type": "code",
        "id": "e6TH-mkPItb6",
        "colab": {}
      },
      "source": [
        "### Logistic Regression"
      ],
      "execution_count": 0,
      "outputs": []
    },
    {
      "cell_type": "code",
      "metadata": {
        "colab_type": "code",
        "id": "qtgUN3LW-UIq",
        "colab": {}
      },
      "source": [
        "def eval_model(X, y, iterations, alpha=1e-4):\n",
        "  np.random.seed(42)\n",
        "  W = np.random.randn(X.shape[0])\n",
        "  n = X.shape[1]\n",
        "  for i in range(1, iterations+1):\n",
        "    z = np.dot(W, X)\n",
        "    y_pred = sigmoid(z)\n",
        "    err = calc_logloss(y, y_pred)\n",
        "    W -= alpha * (1/n * np.dot((y_pred - y), X.T))\n",
        "    if i % (iterations / 10) == 0:\n",
        "      print(i, W, err)\n",
        "  return W"
      ],
      "execution_count": 0,
      "outputs": []
    },
    {
      "cell_type": "code",
      "metadata": {
        "colab_type": "code",
        "id": "oqX7loklBmYZ",
        "outputId": "e8a9b8a9-890f-4946-b2b4-aaab078ca2b8",
        "colab": {
          "base_uri": "https://localhost:8080/",
          "height": 187
        }
      },
      "source": [
        "W = eval_model(X_st, y, iterations=1000, alpha=1e-4)"
      ],
      "execution_count": 36,
      "outputs": [
        {
          "output_type": "stream",
          "text": [
            "100 [ 0.49282748 -0.15007528  0.64748973  1.51727915] 1.2014814214705334\n",
            "200 [ 0.48896219 -0.16184918  0.64728128  1.51155738] 1.1828456288538924\n",
            "300 [ 0.48511874 -0.17358386  0.64706349  1.50586552] 1.1643525542846556\n",
            "400 [ 0.4812976  -0.18527698  0.64683669  1.50020462] 1.1460086359433084\n",
            "500 [ 0.47749927 -0.19692597  0.64660127  1.4945758 ] 1.127820879406358\n",
            "600 [ 0.47372426 -0.20852799  0.6463577   1.48898028] 1.109796908143704\n",
            "700 [ 0.46997312 -0.22007992  0.6461065   1.48341934] 1.0919450148769096\n",
            "800 [ 0.46624642 -0.23157833  0.64584825  1.47789438] 1.074274212586137\n",
            "900 [ 0.46254476 -0.24301946  0.64558365  1.4724069 ] 1.0567942835649755\n",
            "1000 [ 0.45886878 -0.25439917  0.64531344  1.46695851] 1.0395158244739489\n"
          ],
          "name": "stdout"
        }
      ]
    },
    {
      "cell_type": "code",
      "metadata": {
        "colab_type": "code",
        "id": "jp0AQlnkRBWC",
        "colab": {}
      },
      "source": [
        "from sklearn.linear_model import LogisticRegression as LR"
      ],
      "execution_count": 0,
      "outputs": []
    },
    {
      "cell_type": "code",
      "metadata": {
        "id": "GQfE_i9rbItN",
        "colab_type": "code",
        "colab": {}
      },
      "source": [
        "LR?"
      ],
      "execution_count": 0,
      "outputs": []
    },
    {
      "cell_type": "code",
      "metadata": {
        "id": "Mbwxo9NqbLJy",
        "colab_type": "code",
        "colab": {}
      },
      "source": [
        ""
      ],
      "execution_count": 0,
      "outputs": []
    },
    {
      "cell_type": "markdown",
      "metadata": {
        "id": "H_CIxTRC1wHO",
        "colab_type": "text"
      },
      "source": [
        "# Домашнее задание"
      ]
    },
    {
      "cell_type": "markdown",
      "metadata": {
        "id": "h4x_ylou10Xr",
        "colab_type": "text"
      },
      "source": [
        "1*. Измените функцию calc_logloss так, чтобы нули по возможности не попадали в np.log.  \n",
        "2. Подберите аргументы функции eval_model для логистической регрессии таким образом, чтобы log loss был минимальным.\n",
        "3. Создайте функцию calc_pred_proba, возвращающую предсказанную вероятность класса 1 (на вход подаются W, который уже посчитан функцией eval_model и X, на выходе - массив y_pred_proba).\n",
        "4. Создайте функцию calc_pred, возвращающую предсказанный класс (на вход подаются W, который уже посчитан функцией eval_model и X, на выходе - массив y_pred).\n",
        "5. Посчитайте Accuracy, матрицу ошибок, точность и полноту, а также F1 score.\n",
        "6. Могла ли модель переобучиться? Почему?\n",
        "7*. Создайте функции eval_model_l1 и eval_model_l2 с применением L1 и L2 регуляризаций соответственно."
      ]
    },
    {
      "cell_type": "code",
      "metadata": {
        "id": "ri-SukgR1zki",
        "colab_type": "code",
        "colab": {}
      },
      "source": [
        "import numpy as np\n",
        "import matplotlib.pyplot as plt\n",
        "X = np.array([[1, 1, 1, 1, 1, 1, 1, 1, 1, 1],\n",
        "              [1, 1, 2, 1, 3, 0, 5, 10, 1, 2],\n",
        "              [500, 700, 750, 600, 1450,\n",
        "               800, 1500, 2000, 450, 1000],\n",
        "              [1, 1, 2, 1, 2, \n",
        "               1, 3, 3, 1, 2]], dtype = np.float64)\n",
        "y = np.array([0, 0, 1, 0, 1, 0, 1, 0, 1, 1], dtype = np.float64)\n",
        "def calc_std_feat(x):\n",
        "  res = (x - x.mean()) / x.std()\n",
        "  return res\n",
        "X_st = X.copy()\n",
        "X_st[2, :] = calc_std_feat(X[2, :])\n",
        "def calc_logloss(y, y_pred):\n",
        "  err = - np.mean(y * np.log(y_pred) + (1.0 - y) * np.log(1.0 - y_pred))\n",
        "  return err\n",
        "def sigmoid(z):\n",
        "  res = 1 / (1 + np.exp(-z))\n",
        "  return res\n",
        "def eval_model(X, y, iterations, alpha=1e-4):\n",
        "  np.random.seed(42)\n",
        "  W = np.random.randn(X.shape[0])\n",
        "  n = X.shape[1]\n",
        "  for i in range(1, iterations+1):\n",
        "    z = np.dot(W, X)\n",
        "    y_pred = sigmoid(z)\n",
        "    err = calc_logloss(y, y_pred)\n",
        "    W -= alpha * (1/n * np.dot((y_pred - y), X.T))\n",
        "    if i % (iterations / 10) == 0:\n",
        "      print(i, W, err)\n",
        "  return W"
      ],
      "execution_count": 0,
      "outputs": []
    },
    {
      "cell_type": "markdown",
      "metadata": {
        "id": "PTGx0E192g97",
        "colab_type": "text"
      },
      "source": [
        "1*.  Измените функцию calc_logloss так, чтобы нули по возможности не попадали в np.log."
      ]
    },
    {
      "cell_type": "code",
      "metadata": {
        "id": "i_nRNrNd2hxv",
        "colab_type": "code",
        "colab": {}
      },
      "source": [
        "def calc_logloss(y, y_pred):\n",
        "  err = - np.mean(y * np.log(y_pred+1e-10) + (1.0 - y) * np.log(1.0 - y_pred+1e-10))\n",
        "  return err"
      ],
      "execution_count": 0,
      "outputs": []
    },
    {
      "cell_type": "markdown",
      "metadata": {
        "id": "nNeSIu9U2sAp",
        "colab_type": "text"
      },
      "source": [
        "2. Подберите аргументы функции eval_model для логистической регрессии таким образом, чтобы log loss был минимальным."
      ]
    },
    {
      "cell_type": "code",
      "metadata": {
        "id": "vgys_h8n24Lc",
        "colab_type": "code",
        "colab": {
          "base_uri": "https://localhost:8080/",
          "height": 510
        },
        "outputId": "c9a2d200-61bc-443e-b91b-ccad1e75b39c"
      },
      "source": [
        "def eval_model_error(X, y, iterations, alpha=1e-4):\n",
        "  np.random.seed(42)\n",
        "  W = np.random.randn(X.shape[0])\n",
        "  n = X.shape[1]\n",
        "  for i in range(1, iterations+1):\n",
        "    z = np.dot(W, X)\n",
        "    y_pred = sigmoid(z)\n",
        "    err = calc_logloss(y, y_pred)\n",
        "    W -= alpha * (1/n * np.dot((y_pred - y), X.T))\n",
        "  return err\n",
        "\n",
        "log_loss = 1e10\n",
        "alpha_found = 0\n",
        "iters_found = 0\n",
        "for i in range(1000,20000, 1000):\n",
        "  for exponent in range(-10, 0, 1):\n",
        "    alpha = 10**exponent\n",
        "    error = eval_model_error(X_st, y, iterations = i, alpha=alpha)\n",
        "    if error < log_loss:\n",
        "      print(f\"Found less error {error}, iters = {i}, alpha = {alpha}\")\n",
        "      log_loss = error\n",
        "      alpha_found = alpha\n",
        "      iters_found = i\n",
        "print(f\"Minimal error: {log_loss}, where alpha = {alpha_found}, iters = {iters_found}\")\n"
      ],
      "execution_count": 52,
      "outputs": [
        {
          "output_type": "stream",
          "text": [
            "Found less error 1.2200654377556572, iters = 1000, alpha = 1e-10\n",
            "Found less error 1.2200637440771303, iters = 1000, alpha = 1e-09\n",
            "Found less error 1.2200468073498554, iters = 1000, alpha = 1e-08\n",
            "Found less error 1.2198774459162733, iters = 1000, alpha = 1e-07\n",
            "Found less error 1.218184416268653, iters = 1000, alpha = 1e-06\n",
            "Found less error 1.201313379260077, iters = 1000, alpha = 1e-05\n",
            "Found less error 1.0395158238195779, iters = 1000, alpha = 0.0001\n",
            "Found less error 0.5906912247964502, iters = 1000, alpha = 0.001\n",
            "Found less error 0.5233765329934374, iters = 1000, alpha = 0.01\n",
            "Found less error 0.40587815254267917, iters = 1000, alpha = 0.1\n",
            "Found less error 0.3533392417797235, iters = 2000, alpha = 0.1\n",
            "Found less error 0.3250134759996325, iters = 3000, alpha = 0.1\n",
            "Found less error 0.30662418769067357, iters = 4000, alpha = 0.1\n",
            "Found less error 0.29312446740611897, iters = 5000, alpha = 0.1\n",
            "Found less error 0.28239334029146324, iters = 6000, alpha = 0.1\n",
            "Found less error 0.27340382416946263, iters = 7000, alpha = 0.1\n",
            "Found less error 0.2656019296645199, iters = 8000, alpha = 0.1\n",
            "Found less error 0.2586628758908152, iters = 9000, alpha = 0.1\n",
            "Found less error 0.25238324881341306, iters = 10000, alpha = 0.1\n",
            "Found less error 0.2466285422270821, iters = 11000, alpha = 0.1\n",
            "Found less error 0.241305630148627, iters = 12000, alpha = 0.1\n",
            "Found less error 0.23634741195261966, iters = 13000, alpha = 0.1\n",
            "Found less error 0.2317038092417199, iters = 14000, alpha = 0.1\n",
            "Found less error 0.2273362637665955, iters = 15000, alpha = 0.1\n",
            "Found less error 0.22321425512037435, iters = 16000, alpha = 0.1\n",
            "Found less error 0.2193130291433937, iters = 17000, alpha = 0.1\n",
            "Found less error 0.21561207607408983, iters = 18000, alpha = 0.1\n",
            "Found less error 0.2120940861934162, iters = 19000, alpha = 0.1\n",
            "Minimal error: 0.2120940861934162, where alpha = 0.1, iters = 19000\n"
          ],
          "name": "stdout"
        }
      ]
    },
    {
      "cell_type": "markdown",
      "metadata": {
        "id": "RIq_2JqD7DvJ",
        "colab_type": "text"
      },
      "source": [
        "3. Создайте функцию calc_pred_proba, возвращающую предсказанную вероятность класса 1 (на вход подаются W, который уже посчитан функцией eval_model и X, на выходе - массив y_pred_proba)."
      ]
    },
    {
      "cell_type": "code",
      "metadata": {
        "id": "_fATGnfr7KWk",
        "colab_type": "code",
        "colab": {
          "base_uri": "https://localhost:8080/",
          "height": 238
        },
        "outputId": "b9328256-8b6d-43ea-b5ae-dc7581d94a37"
      },
      "source": [
        "def calc_pred_proba(W, X):\n",
        "  res = 1 / (1 + np.exp(-np.dot(W, X)))\n",
        "  return res\n",
        "\n",
        "W = eval_model(X_st, y, iterations = 19000, alpha=0.1)\n",
        "\n",
        "\n",
        "print(y)\n",
        "calc_pred_proba(W, X_st)"
      ],
      "execution_count": 60,
      "outputs": [
        {
          "output_type": "stream",
          "text": [
            "1900 [-4.43701382 -1.03145163 -0.07991295  4.34192367] 0.3571160300912122\n",
            "3800 [-6.76616404 -1.1324736  -0.92014818  5.98555802] 0.3098105947824771\n",
            "5700 [-8.41806953 -1.23742252 -1.47303961  7.23895339] 0.28539549779716683\n",
            "7600 [-9.77760165 -1.33648213 -1.91176531  8.30368705] 0.2686044740590886\n",
            "9500 [-10.97597381  -1.42974282  -2.29038963   9.25698967] 0.2554502533028652\n",
            "11400 [-12.06932029  -1.51800502  -2.63108122  10.13404739] 0.24445178477328908\n",
            "13300 [-13.08576251  -1.60192235  -2.94468649  10.95327685] 0.23492323668930548\n",
            "15200 [-14.04121839  -1.68198332  -3.23724692  11.72549426] 0.22649308298705137\n",
            "17100 [-14.9456676   -1.75856367  -3.51249954  12.45771224] 0.21893422955793485\n",
            "19000 [-15.80593544  -1.8319657   -3.77296727  13.15487458] 0.2120940863220865\n",
            "[0. 0. 1. 0. 1. 0. 1. 0. 1. 1.]\n"
          ],
          "name": "stdout"
        },
        {
          "output_type": "execute_result",
          "data": {
            "text/plain": [
              "array([0.31279885, 0.08760297, 0.99981419, 0.17290696, 0.78784041,\n",
              "       0.21595583, 0.99996999, 0.0668284 , 0.40178856, 0.99870165])"
            ]
          },
          "metadata": {
            "tags": []
          },
          "execution_count": 60
        }
      ]
    },
    {
      "cell_type": "markdown",
      "metadata": {
        "id": "nO35iaUw8c3C",
        "colab_type": "text"
      },
      "source": [
        "4. Создайте функцию calc_pred, возвращающую предсказанный класс (на вход подаются W, который уже посчитан функцией eval_model и X, на выходе - массив y_pred)."
      ]
    },
    {
      "cell_type": "code",
      "metadata": {
        "id": "GJBx_5GM8io-",
        "colab_type": "code",
        "colab": {}
      },
      "source": [
        "def calc_pred(W, X, threshold=0.5):\n",
        "  res = calc_pred_proba(W,X)\n",
        "  return np.where(res>threshold,1.0,0.0)\n",
        "\n",
        "y_pred = calc_pred(W, X_st)"
      ],
      "execution_count": 0,
      "outputs": []
    },
    {
      "cell_type": "markdown",
      "metadata": {
        "id": "ctYpQqEa9Lyb",
        "colab_type": "text"
      },
      "source": [
        "5. Посчитайте Accuracy, матрицу ошибок, точность и полноту, а также F1 score."
      ]
    },
    {
      "cell_type": "code",
      "metadata": {
        "id": "CrOzzQKZ9Suk",
        "colab_type": "code",
        "colab": {
          "base_uri": "https://localhost:8080/",
          "height": 153
        },
        "outputId": "60ad361e-4080-423f-896d-ddc26741a931"
      },
      "source": [
        "def count_accuracy(y, y_pred):\n",
        "  return np.sum(y == y_pred)/y.shape[0]\n",
        "\n",
        "def count_precision(y,y_pred):\n",
        "  TP = np.sum((y==y_pred) & (y==1))\n",
        "  FP = np.sum((y==y_pred) & (y==0) & (y_pred==1))\n",
        "  return TP/(TP+FP)\n",
        "\n",
        "def count_recall(y,y_pred):\n",
        "  TP = np.sum((y==y_pred) & (y==1))\n",
        "  FN = np.sum((y==1) & (y_pred==0))\n",
        "  return TP/(TP+FN)\n",
        "\n",
        "def count_F1(y, y_pred):\n",
        "  precision = count_precision(y,y_pred)\n",
        "  recall = count_recall(y,y_pred)\n",
        "  return 2*(precision*recall)/(precision+recall)\n",
        "\n",
        "def count_matrix(y,y_pred):\n",
        "  TP = np.sum((y==y_pred) & (y==1))\n",
        "  FN = np.sum((y==1) & (y_pred==0))\n",
        "  FP = np.sum((y==y_pred) & (y==0) & (y_pred==1))\n",
        "  TN = np.sum((y==y_pred) & (y==0))\n",
        "  print(\" \", \"+1\" ,\"-1\")\n",
        "  print(\"+1\", TP, FP)\n",
        "  print(\"-1\", FN, TN)\n",
        "  return np.array([[TP, FP], [FN, TN]])\n",
        "\n",
        "print(y)\n",
        "print(y_pred)\n",
        "\n",
        "accuracy = count_accuracy(y,y_pred)\n",
        "precision = count_precision(y,y_pred)\n",
        "recall = count_recall(y,y_pred)\n",
        "f1 = count_F1(y, y_pred)\n",
        "\n",
        "print(f\"accuracy = {accuracy}, precision = {precision}, recall = {recall}, F1 = {f1}\")\n",
        "count_matrix(y, y_pred)"
      ],
      "execution_count": 90,
      "outputs": [
        {
          "output_type": "stream",
          "text": [
            "[0. 0. 1. 0. 1. 0. 1. 0. 1. 1.]\n",
            "[0. 0. 1. 0. 1. 0. 1. 0. 0. 1.]\n",
            "accuracy = 0.9, precision = 1.0, recall = 0.8, F1 = 0.888888888888889\n",
            "  +1 -1\n",
            "+1 4 0\n",
            "-1 1 5\n"
          ],
          "name": "stdout"
        },
        {
          "output_type": "execute_result",
          "data": {
            "text/plain": [
              "array([[4, 0],\n",
              "       [1, 5]])"
            ]
          },
          "metadata": {
            "tags": []
          },
          "execution_count": 90
        }
      ]
    },
    {
      "cell_type": "markdown",
      "metadata": {
        "id": "Ps17_9cSDFMd",
        "colab_type": "text"
      },
      "source": [
        "6. Могла ли модель переобучиться? Почему?"
      ]
    },
    {
      "cell_type": "markdown",
      "metadata": {
        "id": "67DUKXHBDJA5",
        "colab_type": "text"
      },
      "source": [
        "Могла, мы ведь не использовали регуляризацию"
      ]
    },
    {
      "cell_type": "markdown",
      "metadata": {
        "id": "dKls9wI2DQPh",
        "colab_type": "text"
      },
      "source": [
        "7. Создайте функции eval_model_l1 и eval_model_l2 с применением L1 и L2 регуляризаций соответственно."
      ]
    },
    {
      "cell_type": "code",
      "metadata": {
        "id": "ZA7qWfVxDdTh",
        "colab_type": "code",
        "colab": {}
      },
      "source": [
        "def eval_model_l1(X, y, iterations, alpha=1e-4, lambda_=1e-2):\n",
        "  np.random.seed(42)\n",
        "  W = np.random.randn(X.shape[0])\n",
        "  n = X.shape[1]\n",
        "  for i in range(1, iterations+1):\n",
        "    z = np.dot(W, X)\n",
        "    y_pred = sigmoid(z)\n",
        "    err = calc_logloss(y, y_pred)\n",
        "    W -= alpha * (1/n * np.dot((y_pred - y), X.T) + lambda_/2 * np.sign(W))\n",
        "    if i % (iterations / 10) == 0:\n",
        "      print(i, W, err)\n",
        "  return W\n",
        "\n",
        "def eval_model_l2(X, y, iterations, alpha=1e-4, lambda_=1e-2):\n",
        "  np.random.seed(42)\n",
        "  W = np.random.randn(X.shape[0])\n",
        "  n = X.shape[1]\n",
        "  for i in range(1, iterations+1):\n",
        "    z = np.dot(W, X)\n",
        "    y_pred = sigmoid(z)\n",
        "    err = calc_logloss(y, y_pred)\n",
        "    W -= alpha * (1/n * 2* np.dot((y_pred - y), X.T) + lambda_*W)\n",
        "    if i % (iterations / 10) == 0:\n",
        "      print(i, W, err)\n",
        "  return W"
      ],
      "execution_count": 0,
      "outputs": []
    }
  ]
}