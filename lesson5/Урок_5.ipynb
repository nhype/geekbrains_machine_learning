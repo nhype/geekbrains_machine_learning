{
  "nbformat": 4,
  "nbformat_minor": 0,
  "metadata": {
    "kernelspec": {
      "display_name": "Python 3",
      "language": "python",
      "name": "python3"
    },
    "language_info": {
      "codemirror_mode": {
        "name": "ipython",
        "version": 3
      },
      "file_extension": ".py",
      "mimetype": "text/x-python",
      "name": "python",
      "nbconvert_exporter": "python",
      "pygments_lexer": "ipython3",
      "version": "3.7.1"
    },
    "colab": {
      "name": "Урок 5.ipynb",
      "provenance": [],
      "collapsed_sections": []
    }
  },
  "cells": [
    {
      "cell_type": "markdown",
      "metadata": {
        "id": "q0Z7pb2vbIWg",
        "colab_type": "text"
      },
      "source": [
        "# Урок 5. Случайный лес"
      ]
    },
    {
      "cell_type": "markdown",
      "metadata": {
        "id": "kzsNk_uYbIWj",
        "colab_type": "text"
      },
      "source": [
        "Данный урок будет своеобразным логическим продолжением предыдущего. Основным недостатком деревьев решений является их склонность к переобучению и тот факт, что даже при небольшом изменении обучающей выборки дерево может значительно измениться. Однако их объединение в _ансамбли_ или _композиции_ на практике дает очень хорошие результаты. Ансамбли - это методы, сочетающие в себе несколько алгоритмов машинного обучения для получения более мощной модели. \n",
        "\n",
        "В случае задачи регрессии при использовании композиции $a(x)$ из $N$ _базовых алгоритмов_ $b_{n}(x)$ ответом будет считаться среднее значение ответа каждого алгоритма\n",
        "\n",
        "$$a(x) = \\frac{1}{N}\\sum_{n=1}^{N}b_{n}(x),$$\n",
        "\n",
        "в задачах классификации, соответственно, знак полученного усредненного ответа или (что аналогично) класс определяется путем _голосования_: объект относится к классу, за который \"проголосовало\" наибольшее число базовых алгоритмов.\n",
        "\n",
        "Одни из самых хорошо зарекомендовавших себя на практике решения задач классификации и регрессии с использованием деревьев решения - это _случайные леса_ и _градиентный бустинг_. В этом уроке пойдет речь о первом методе."
      ]
    },
    {
      "cell_type": "markdown",
      "metadata": {
        "id": "LzZc-SKFbIWk",
        "colab_type": "text"
      },
      "source": [
        "Случайные леса названы так из-за того, что в процесс построения деревьев, из которых они состоят, внесен элемент случайности для обеспечения уникальности каждого из деревьев. Такая рандомизация заключается в обучении базовых алгоритмов на разных подвыборках обучающей выборки. Один из способов построения случайных подвыборок - _бутстрап (bootstrap)_. Этот метод заключается в получении из выборки длины $l$ нескольких разных выборок той же длины $l$. Для получения бутстрап-выборки из исходной выборки $l$ раз выбирается случайный элемент, причем каждый раз новый элемент выбирается из всей выборки. Таким образом, в полученной в конечном итоге бутстрап-выборке некоторые элементы исходной выборки будут встречаться несколько раз, а некоторые (примерно 37% выборки) будут вовсе отсутствовать, и при повторении $N$ раз мы получим $N$ разных выборок длиной $l$. Например, если у нас есть исходная выборка вида [a, b, c, d, e], возможными бутстрап-выборками могут быть [a, b, a, c, b] или [b, e, e, d, b] и т.д."
      ]
    },
    {
      "cell_type": "markdown",
      "metadata": {
        "id": "d2TEx7wFbIWl",
        "colab_type": "text"
      },
      "source": [
        "Известно, что ошибка алгоритмов складывается из _смещения (bias)_ (отклонение среднего ответа обученного алгоритма от ответа идеального алгоритма) и _разброса_ или _дисперсии (variance)_ (разброс ответов обученных алгоритмов отнисительно среднего ответа) (см. дополнительные материалы). Также к этому разложению обычно прибавляется _шум_, который характеризует ошибку идеального алгоритма и которым никак нельзя управлять - это характеристика входных данных. Как правило, простые семейства алгоритмов (например, линейные классификаторы) характеризуются высоким смещением и низким разбросом, а сложные семейства (в т.ч. деревья) наоборот - низким смещением и высоким разбросом. Можно сказать, что разброс характеризует чувствительность метода обучения к выборке, то есть насколько будет изменяться ответ обученного алгоритма в зависимости от изменений в обучающей выборке."
      ]
    },
    {
      "cell_type": "markdown",
      "metadata": {
        "id": "y599HrSvbIWl",
        "colab_type": "text"
      },
      "source": [
        "Объединение нескольких деревьев с одинаковым смещением в композицию не будет приводить к увеличению ее смещения, а вот компонента разброса будет снижаться, если базовые алгоритмы независимы, то есть не коррелируют друг с другом: разброс композиции при усреднении ответов будет в $N$ раз меньше разброса одного базового алгоритма. Однако, на практике базовые алгоритмы всегда в той или иной степени скоррелированы, так как обучаются на подвыборках одной выборки, поэтому возникает необходимость уменьшения корреляции получаемых алгоритмов."
      ]
    },
    {
      "cell_type": "markdown",
      "metadata": {
        "id": "n_Q41J0ubIWm",
        "colab_type": "text"
      },
      "source": [
        "Есть два подхода, позволяющих уменьшить корреляцию: _бэггинг_ (обучение базовых алгоритмов на случайной подвыборке) и _метод случайных подпространств_ (обучение базовых алгоритмов на случайном подмножестве признаков) или их комбинация. В этом случае возникают гиперпараметры (параметры, которые нельзя найти или оценить по обучающей выборки, обучив алгоритм единожды) - размер подвыборки или подмножества признаков. Чем меньше брать обучающую подвыборку при бэггинге, тем меньше будет корреляция между алгоритмами, но тем больше вероятность переобучения деревьев, составляющих ансамбль."
      ]
    },
    {
      "cell_type": "markdown",
      "metadata": {
        "id": "p3nwuz1cbIWn",
        "colab_type": "text"
      },
      "source": [
        "## Алгоритм построения случайного леса"
      ]
    },
    {
      "cell_type": "markdown",
      "metadata": {
        "id": "tZVn9sXDbIWo",
        "colab_type": "text"
      },
      "source": [
        "При построении случайного леса вначале генерируется количество бутстрап-выборок, равное количеству деревьев в алгоритме. Для уменьшения корреляции базовых алгоритмов рандомизируют сам процесс построения каждого дерева: если в стандартном методе построения деревьев мы в каждом узле выбираем $j$-й признак и порог $t$, с которым сравнивается его значение, и потом эти значения оптимизируются с помощью функции ошибки, то в методе случайного леса в каждой вершине $j$-й признак выбирается не из всего пространства признаков, а из его случайного подмножества размера $m$, __которое каждый раз выбирается заново__ (в этом отличие от метода случайных подпространств, где подпространство выбирается единожды и используется для построения всего дерева). \n",
        "\n",
        "Есть некоторые практически рекомендации по построению случайных лесов: в задачах классификации рекомендуется брать $m = \\sqrt{d}$, где $d$ - общее число признаков, и строить дерево до тех пор, пока в каждом листе не останется по одному объекту, а в задаче регрессии принимать $m = d/3$ и строить дерево, пока в листьях не останется по пять объектов.\n",
        "\n",
        "Далее построенные деревья объединяются в композицию, и при предсказаниях с его помощью используется усредненный ответ на каждом дереве."
      ]
    },
    {
      "cell_type": "markdown",
      "metadata": {
        "id": "Cr-tqx0obIWo",
        "colab_type": "text"
      },
      "source": [
        "### Out-of-Bag"
      ]
    },
    {
      "cell_type": "markdown",
      "metadata": {
        "id": "5l2JelGebIWp",
        "colab_type": "text"
      },
      "source": [
        "Вспомним, что каждое дерево $b_{n}$, составляющее случайный лес, строится на основе бутстрапированной выборки $X_{n}$. При этом примерно 37% объектов не попадают в эту выборку, и дерево на них не обучается. Эти объекты можно использовать для оценки качества полученного алгоритма, это и называется _out-of-bag error_. Для каждог объекта $x_{i}$ мы можем найти деревья, которые на нем не обучались, и вычислить ошибку: она рассчитывается как сумма значений ошибки для среднего ответа на каждом объекте $x_{i}$ среди деревьев, которые на нем не обучались:\n",
        "\n",
        "$$OOB = \\sum^{l}_{i=1}L\\left ( y_{i}, \\:\\frac{1}{\\sum^{N}_{n=1}[x_{i}\\notin X_{n}]} \\sum^{N}_{n=1}[x_{i} \\notin X_{n}]b_{n}(x_{i}) \\right ).$$\n",
        "\n",
        "Здесь $L(y, z)$ - функция потерь, а выражение в скобках и представляет из себя среднюю ошибку на объекте $x_{i}$ среди деревьев, которые на нем не обучались."
      ]
    },
    {
      "cell_type": "markdown",
      "metadata": {
        "id": "ysV5Pa5PbIWq",
        "colab_type": "text"
      },
      "source": [
        "При использовании этого метода оценивания качества исчезает необходимость использовать отложенные выборки и кросс-валидацию при обучении случайных лесов."
      ]
    },
    {
      "cell_type": "markdown",
      "metadata": {
        "id": "SQJYSrtPbIWr",
        "colab_type": "text"
      },
      "source": [
        "## Домашнее задание"
      ]
    },
    {
      "cell_type": "markdown",
      "metadata": {
        "id": "jV9RQrtmNv-J",
        "colab_type": "text"
      },
      "source": [
        "*** Сформировать с помощью sklearn.make_classification датасет из 100 объектов с двумя признаками, обучить случайный лес из 1, 3, 10 и 50 деревьев и визуализировать их разделяющие гиперплоскости на графиках (по подобию визуализации деревьев из предыдущего урока, необходимо только заменить вызов функции predict на tree_vote). Сделать выводы о получаемой сложности гиперплоскости и недообучении или переобучении случайного леса в зависимости от количества деревьев в нем ***"
      ]
    },
    {
      "cell_type": "code",
      "metadata": {
        "id": "ZNR-FOeobIWs",
        "colab_type": "code",
        "colab": {}
      },
      "source": [
        "import matplotlib.pyplot as plt\n",
        "import random\n",
        "\n",
        "from matplotlib.colors import ListedColormap\n",
        "from sklearn import datasets\n",
        "\n",
        "import numpy as np"
      ],
      "execution_count": 0,
      "outputs": []
    },
    {
      "cell_type": "code",
      "metadata": {
        "id": "m4Mb7omZbIWw",
        "colab_type": "code",
        "colab": {}
      },
      "source": [
        "\n",
        "classification_data, classification_labels = datasets.make_classification(n_samples=100,\n",
        "                                                      n_features = 2, n_informative = 2, \n",
        "                                                      n_classes = 2, n_redundant=0, \n",
        "                                                      n_clusters_per_class=1, random_state=23)"
      ],
      "execution_count": 0,
      "outputs": []
    },
    {
      "cell_type": "markdown",
      "metadata": {
        "id": "JvjWiryZbIW2",
        "colab_type": "text"
      },
      "source": [
        "## Реализация алгоритма RF"
      ]
    },
    {
      "cell_type": "code",
      "metadata": {
        "id": "d7if4ogqbIW3",
        "colab_type": "code",
        "colab": {}
      },
      "source": [
        "random.seed(42)\n",
        "\n",
        "def get_bootstrap(data, labels, N):\n",
        "    n_samples = data.shape[0]\n",
        "    bootstrap = []\n",
        "    \n",
        "    for i in range(N):\n",
        "        b_data = np.zeros(data.shape)\n",
        "        b_labels = np.zeros(labels.shape)\n",
        "        \n",
        "        for j in range(n_samples):\n",
        "            sample_index = random.randint(0, n_samples-1)\n",
        "            b_data[j] = data[sample_index]\n",
        "            b_labels[j] = labels[sample_index]\n",
        "        bootstrap.append((b_data, b_labels))\n",
        "        \n",
        "    return bootstrap"
      ],
      "execution_count": 0,
      "outputs": []
    },
    {
      "cell_type": "code",
      "metadata": {
        "id": "HJExhkqsPLw_",
        "colab_type": "code",
        "colab": {}
      },
      "source": [
        "# Введем функцию подсчета точности как доли правильных ответов\n",
        "def accuracy_metric(actual, predicted):\n",
        "    correct = 0\n",
        "    for i in range(len(actual)):\n",
        "        if actual[i] == predicted[i]:\n",
        "            correct += 1\n",
        "    return correct / float(len(actual)) * 100.0"
      ],
      "execution_count": 0,
      "outputs": []
    },
    {
      "cell_type": "code",
      "metadata": {
        "id": "526l0aGNbIW5",
        "colab_type": "code",
        "colab": {}
      },
      "source": [
        "def get_subsample(len_sample):\n",
        "    # будем сохранять не сами признаки, а их индексы\n",
        "    sample_indexes = [i for i in range(len_sample)]\n",
        "    \n",
        "    len_subsample = int(np.sqrt(len_sample))\n",
        "    subsample = []\n",
        "    \n",
        "    random.shuffle(sample_indexes)\n",
        "    for _ in range(len_subsample):\n",
        "        subsample.append(sample_indexes.pop())\n",
        "        \n",
        "    return subsample"
      ],
      "execution_count": 0,
      "outputs": []
    },
    {
      "cell_type": "code",
      "metadata": {
        "id": "AGdBq1lbbIW9",
        "colab_type": "code",
        "colab": {}
      },
      "source": [
        "# Реализуем класс узла\n",
        "\n",
        "class Node:\n",
        "    \n",
        "    def __init__(self, index, t, true_branch, false_branch):\n",
        "        self.index = index  # индекс признака, по которому ведется сравнение с порогом в этом узле\n",
        "        self.t = t  # значение порога\n",
        "        self.true_branch = true_branch  # поддерево, удовлетворяющее условию в узле\n",
        "        self.false_branch = false_branch  # поддерево, не удовлетворяющее условию в узле"
      ],
      "execution_count": 0,
      "outputs": []
    },
    {
      "cell_type": "code",
      "metadata": {
        "id": "QGT-Wsx6bIW_",
        "colab_type": "code",
        "colab": {}
      },
      "source": [
        "# И класс терминального узла (листа)\n",
        "\n",
        "class Leaf:\n",
        "    \n",
        "    def __init__(self, data, labels):\n",
        "        self.data = data\n",
        "        self.labels = labels\n",
        "        self.prediction = self.predict()\n",
        "        \n",
        "    def predict(self):\n",
        "        # подсчет количества объектов разных классов\n",
        "        classes = {}  # сформируем словарь \"класс: количество объектов\"\n",
        "        for label in self.labels:\n",
        "            if label not in classes:\n",
        "                classes[label] = 0\n",
        "            classes[label] += 1\n",
        "        #  найдем класс, количество объектов которого будет максимальным в этом листе и вернем его    \n",
        "        prediction = max(classes, key=classes.get)\n",
        "        return prediction        "
      ],
      "execution_count": 0,
      "outputs": []
    },
    {
      "cell_type": "code",
      "metadata": {
        "id": "DRTe458CbIXE",
        "colab_type": "code",
        "colab": {}
      },
      "source": [
        "# Расчет критерия Джини\n",
        "\n",
        "def gini(labels):\n",
        "    #  подсчет количества объектов разных классов\n",
        "    classes = {}\n",
        "    for label in labels:\n",
        "        if label not in classes:\n",
        "            classes[label] = 0\n",
        "        classes[label] += 1\n",
        "    \n",
        "    #  расчет критерия\n",
        "    impurity = 1\n",
        "    for label in classes:\n",
        "        p = classes[label] / len(labels)\n",
        "        impurity -= p ** 2\n",
        "        \n",
        "    return impurity"
      ],
      "execution_count": 0,
      "outputs": []
    },
    {
      "cell_type": "code",
      "metadata": {
        "id": "YT7T4h3WbIXH",
        "colab_type": "code",
        "colab": {}
      },
      "source": [
        "# Расчет качества\n",
        "\n",
        "def quality(left_labels, right_labels, current_gini):\n",
        "\n",
        "    # доля выбоки, ушедшая в левое поддерево\n",
        "    p = float(left_labels.shape[0]) / (left_labels.shape[0] + right_labels.shape[0])\n",
        "    \n",
        "    return current_gini - p * gini(left_labels) - (1 - p) * gini(right_labels)"
      ],
      "execution_count": 0,
      "outputs": []
    },
    {
      "cell_type": "code",
      "metadata": {
        "id": "rqbAx1cXbIXK",
        "colab_type": "code",
        "colab": {}
      },
      "source": [
        "# Разбиение датасета в узле\n",
        "\n",
        "def split(data, labels, index, t):\n",
        "    \n",
        "    left = np.where(data[:, index] <= t)\n",
        "    right = np.where(data[:, index] > t)\n",
        "        \n",
        "    true_data = data[left]\n",
        "    false_data = data[right]\n",
        "    true_labels = labels[left]\n",
        "    false_labels = labels[right]\n",
        "        \n",
        "    return true_data, false_data, true_labels, false_labels"
      ],
      "execution_count": 0,
      "outputs": []
    },
    {
      "cell_type": "code",
      "metadata": {
        "id": "zP2pg3HUbIXP",
        "colab_type": "code",
        "colab": {}
      },
      "source": [
        "# Нахождение наилучшего разбиения\n",
        "\n",
        "def find_best_split(data, labels):\n",
        "    \n",
        "    #  обозначим минимальное количество объектов в узле\n",
        "    min_leaf = 1\n",
        "\n",
        "    current_gini = gini(labels)\n",
        "\n",
        "    best_quality = 0\n",
        "    best_t = None\n",
        "    best_index = None\n",
        "    \n",
        "    n_features = data.shape[1]\n",
        "    \n",
        "    # выбор индекса из подвыборки длиной sqrt(n_features)\n",
        "    subsample = get_subsample(n_features)\n",
        "    \n",
        "    for index in subsample:\n",
        "        # будем проверять только уникальные значения признака, исключая повторения\n",
        "        t_values = np.unique([row[index] for row in data])\n",
        "        \n",
        "        for t in t_values:\n",
        "            true_data, false_data, true_labels, false_labels = split(data, labels, index, t)\n",
        "            #  пропускаем разбиения, в которых в узле остается менее 5 объектов\n",
        "            if len(true_data) < min_leaf or len(false_data) < min_leaf:\n",
        "                continue\n",
        "            \n",
        "            current_quality = quality(true_labels, false_labels, current_gini)\n",
        "            \n",
        "            #  выбираем порог, на котором получается максимальный прирост качества\n",
        "            if current_quality > best_quality:\n",
        "                best_quality, best_t, best_index = current_quality, t, index\n",
        "\n",
        "    return best_quality, best_t, best_index"
      ],
      "execution_count": 0,
      "outputs": []
    },
    {
      "cell_type": "code",
      "metadata": {
        "id": "dQ4ZPJRUbIXR",
        "colab_type": "code",
        "colab": {}
      },
      "source": [
        "# Построение дерева с помощью рекурсивной функции\n",
        "\n",
        "def build_tree(data, labels):\n",
        "\n",
        "    quality, t, index = find_best_split(data, labels)\n",
        "\n",
        "    #  Базовый случай - прекращаем рекурсию, когда нет прироста в качества\n",
        "    if quality == 0:\n",
        "        return Leaf(data, labels)\n",
        "\n",
        "    true_data, false_data, true_labels, false_labels = split(data, labels, index, t)\n",
        "\n",
        "    # Рекурсивно строим два поддерева\n",
        "    true_branch = build_tree(true_data, true_labels)\n",
        "    false_branch = build_tree(false_data, false_labels)\n",
        "\n",
        "    # Возвращаем класс узла со всеми поддеревьями, то есть целого дерева\n",
        "    return Node(index, t, true_branch, false_branch)"
      ],
      "execution_count": 0,
      "outputs": []
    },
    {
      "cell_type": "code",
      "metadata": {
        "id": "PZMieMMrbIXV",
        "colab_type": "code",
        "colab": {}
      },
      "source": [
        "def random_forest(data, labels, n_trees):\n",
        "    forest = []\n",
        "    bootstrap = get_bootstrap(data, labels, n_trees)\n",
        "    \n",
        "    for b_data, b_labels in bootstrap:\n",
        "        forest.append(build_tree(b_data, b_labels))\n",
        "        \n",
        "    return forest"
      ],
      "execution_count": 0,
      "outputs": []
    },
    {
      "cell_type": "code",
      "metadata": {
        "id": "tWNbZTz4bIXX",
        "colab_type": "code",
        "colab": {}
      },
      "source": [
        "# Функция классификации отдельного объекта\n",
        "\n",
        "def classify_object(obj, node):\n",
        "\n",
        "    #  Останавливаем рекурсию, если достигли листа\n",
        "    if isinstance(node, Leaf):\n",
        "        answer = node.prediction\n",
        "        return answer\n",
        "\n",
        "    if obj[node.index] <= node.t:\n",
        "        return classify_object(obj, node.true_branch)\n",
        "    else:\n",
        "        return classify_object(obj, node.false_branch)"
      ],
      "execution_count": 0,
      "outputs": []
    },
    {
      "cell_type": "code",
      "metadata": {
        "id": "rWOM8g_YbIXZ",
        "colab_type": "code",
        "colab": {}
      },
      "source": [
        "# функция формирования предсказания по выборке на одном дереве\n",
        "\n",
        "def predict(data, tree):\n",
        "    \n",
        "    classes = []\n",
        "    for obj in data:\n",
        "        prediction = classify_object(obj, tree)\n",
        "        classes.append(prediction)\n",
        "    return classes"
      ],
      "execution_count": 0,
      "outputs": []
    },
    {
      "cell_type": "code",
      "metadata": {
        "id": "ZtIgR7R-bIXc",
        "colab_type": "code",
        "colab": {}
      },
      "source": [
        "# предсказание голосованием деревьев\n",
        "\n",
        "def tree_vote(forest, data):\n",
        "\n",
        "    # добавим предсказания всех деревьев в список\n",
        "    predictions = []\n",
        "    for tree in forest:\n",
        "        predictions.append(predict(data, tree))\n",
        "    \n",
        "    # сформируем список с предсказаниями для каждого объекта\n",
        "    predictions_per_object = list(zip(*predictions))\n",
        "    \n",
        "    # выберем в качестве итогового предсказания для каждого объекта то,\n",
        "    # за которое проголосовало большинство деревьев\n",
        "    voted_predictions = []\n",
        "    for obj in predictions_per_object:\n",
        "        voted_predictions.append(max(set(obj), key=obj.count))\n",
        "        \n",
        "    return voted_predictions"
      ],
      "execution_count": 0,
      "outputs": []
    },
    {
      "cell_type": "markdown",
      "metadata": {
        "id": "fkMTjBewbIXf",
        "colab_type": "text"
      },
      "source": [
        "## Визуализируем гиперплоскости"
      ]
    },
    {
      "cell_type": "code",
      "metadata": {
        "id": "MJ-EydfGQ9RZ",
        "colab_type": "code",
        "colab": {}
      },
      "source": [
        "# Разобьем выборку на обучающую и тестовую\n",
        "\n",
        "from sklearn import model_selection\n",
        "import matplotlib.pyplot as plt\n",
        "\n",
        "train_data, test_data, train_labels, test_labels = model_selection.train_test_split(classification_data, \n",
        "                                                                                     classification_labels, \n",
        "                                                                                     test_size = 0.3,\n",
        "                                                                                     random_state = 1)\n",
        "def get_meshgrid(data, step=.05, border=1.2):\n",
        "    x_min, x_max = data[:, 0].min() - border, data[:, 0].max() + border\n",
        "    y_min, y_max = data[:, 1].min() - border, data[:, 1].max() + border\n",
        "    return np.meshgrid(np.arange(x_min, x_max, step), np.arange(y_min, y_max, step))"
      ],
      "execution_count": 0,
      "outputs": []
    },
    {
      "cell_type": "code",
      "metadata": {
        "id": "1xRgQv0pPOCY",
        "colab_type": "code",
        "outputId": "b55f2cdc-8f2e-43ad-9797-44f939c33161",
        "colab": {
          "base_uri": "https://localhost:8080/",
          "height": 1000
        }
      },
      "source": [
        "def random_forest_visualization(nums_trees, train_data, train_labels, test_data, test_labels):\n",
        "  for i in nums_trees:\n",
        "    print(f\"Training RF with num_trees={i}\")\n",
        "    rf = random_forest(train_data, train_labels, i)\n",
        "    # Получим ответы для обучающей выборки \n",
        "    train_answers = tree_vote(rf, train_data)\n",
        "    # И получим ответы для тестовой выборки\n",
        "    test_answers = tree_vote(rf, test_data)\n",
        "    # Точность на обучающей выборке\n",
        "    train_accuracy = accuracy_metric(train_labels, train_answers)\n",
        "    test_accuracy = accuracy_metric(test_labels, test_answers)\n",
        "    print(f'Точность случайного леса из {i} деревьев на обучающей выборке: {train_accuracy:.3f}')\n",
        "    print(f'Точность случайного леса из {i} деревьев на тестовой выборке: {test_accuracy:.3f}')\n",
        "    # Визуализируем дерево на графике\n",
        "    plt.figure(figsize = (16, 7))\n",
        "    # график обучающей выборки\n",
        "    plt.subplot(1,2,1)\n",
        "    xx, yy = get_meshgrid(train_data)\n",
        "    mesh_predictions = np.array(tree_vote(rf, np.c_[xx.ravel(), yy.ravel()])).reshape(xx.shape)\n",
        "    plt.pcolormesh(xx, yy, mesh_predictions, cmap = light_colors)\n",
        "    plt.scatter(train_data[:, 0], train_data[:, 1], c = train_labels, cmap = colors)\n",
        "    plt.title(f'Num_trees {i}, Train accuracy={train_accuracy:.2f}')\n",
        "\n",
        "    # график тестовой выборки\n",
        "    plt.subplot(1,2,2)\n",
        "    plt.pcolormesh(xx, yy, mesh_predictions, cmap = light_colors)\n",
        "    plt.scatter(test_data[:, 0], test_data[:, 1], c = test_labels, cmap = colors)\n",
        "    plt.title(f'Num_trees {i}, Test accuracy={test_accuracy:.2f}')\n",
        "\n",
        "random_forest_visualization([1,3,10,50], train_data, train_labels, test_data, test_labels)"
      ],
      "execution_count": 0,
      "outputs": [
        {
          "output_type": "stream",
          "text": [
            "Training RF with num_trees=1\n",
            "Точность случайного леса из 1 деревьев на обучающей выборке: 92.857\n",
            "Точность случайного леса из 1 деревьев на тестовой выборке: 80.000\n",
            "Training RF with num_trees=3\n",
            "Точность случайного леса из 3 деревьев на обучающей выборке: 97.143\n",
            "Точность случайного леса из 3 деревьев на тестовой выборке: 83.333\n",
            "Training RF with num_trees=10\n",
            "Точность случайного леса из 10 деревьев на обучающей выборке: 100.000\n",
            "Точность случайного леса из 10 деревьев на тестовой выборке: 86.667\n",
            "Training RF with num_trees=50\n",
            "Точность случайного леса из 50 деревьев на обучающей выборке: 100.000\n",
            "Точность случайного леса из 50 деревьев на тестовой выборке: 86.667\n"
          ],
          "name": "stdout"
        },
        {
          "output_type": "display_data",
          "data": {
            "image/png": "[encoded data removed]",
            "text/plain": [
              "<Figure size 1152x504 with 2 Axes>"
            ]
          },
          "metadata": {
            "tags": [],
            "needs_background": "light"
          }
        },
        {
          "output_type": "display_data",
          "data": {
            "image/png": "[encoded data removed]",
            "text/plain": [
              "<Figure size 1152x504 with 2 Axes>"
            ]
          },
          "metadata": {
            "tags": [],
            "needs_background": "light"
          }
        },
        {
          "output_type": "display_data",
          "data": {
            "image/png": "[encoded data removed]",
            "text/plain": [
              "<Figure size 1152x504 with 2 Axes>"
            ]
          },
          "metadata": {
            "tags": [],
            "needs_background": "light"
          }
        },
        {
          "output_type": "display_data",
          "data": {
            "image/png": "[encoded data removed]",
            "text/plain": [
              "<Figure size 1152x504 with 2 Axes>"
            ]
          },
          "metadata": {
            "tags": [],
            "needs_background": "light"
          }
        }
      ]
    },
    {
      "cell_type": "markdown",
      "metadata": {
        "id": "WMLKbGtwbf3J",
        "colab_type": "text"
      },
      "source": [
        "**Заменить в реализованном алгоритме проверку с помощью отложенной выборки на Out-of-Bag.**"
      ]
    },
    {
      "cell_type": "code",
      "metadata": {
        "colab_type": "code",
        "id": "wIQcP2XOcgLK",
        "colab": {}
      },
      "source": [
        "random.seed(42)\n",
        "\n",
        "def get_bootstrap(data, labels, N):\n",
        "    n_samples = data.shape[0]\n",
        "    bootstrap = []\n",
        "    \n",
        "    for i in range(N):\n",
        "        b_data = np.zeros(data.shape)\n",
        "        b_labels = np.zeros(labels.shape)\n",
        "        bootstrapped_labels = np.ones(labels.shape)\n",
        "        for j in range(n_samples):\n",
        "            sample_index = random.randint(0, n_samples-1)\n",
        "            bootstrapped_labels[sample_index] = 0\n",
        "            b_data[j] = data[sample_index]\n",
        "            b_labels[j] = labels[sample_index]\n",
        "        bootstrap.append((b_data, b_labels, list(bootstrapped_labels.nonzero()))) #записали также missed индексы\n",
        "        \n",
        "    return bootstrap "
      ],
      "execution_count": 0,
      "outputs": []
    },
    {
      "cell_type": "code",
      "metadata": {
        "colab_type": "code",
        "id": "8EICK_l7cgLO",
        "colab": {}
      },
      "source": [
        "def get_subsample(len_sample):\n",
        "    # будем сохранять не сами признаки, а их индексы\n",
        "    sample_indexes = [i for i in range(len_sample)]\n",
        "    \n",
        "    len_subsample = int(np.sqrt(len_sample))\n",
        "    subsample = []\n",
        "    \n",
        "    random.shuffle(sample_indexes)\n",
        "    for _ in range(len_subsample):\n",
        "        subsample.append(sample_indexes.pop())\n",
        "        \n",
        "    return subsample"
      ],
      "execution_count": 0,
      "outputs": []
    },
    {
      "cell_type": "code",
      "metadata": {
        "colab_type": "code",
        "id": "FHgBWpCEcgLR",
        "colab": {}
      },
      "source": [
        "# Реализуем класс узла\n",
        "\n",
        "class Node:\n",
        "    \n",
        "    def __init__(self, index, t, true_branch, false_branch):\n",
        "        self.index = index  # индекс признака, по которому ведется сравнение с порогом в этом узле\n",
        "        self.t = t  # значение порога\n",
        "        self.true_branch = true_branch  # поддерево, удовлетворяющее условию в узле\n",
        "        self.false_branch = false_branch  # поддерево, не удовлетворяющее условию в узле"
      ],
      "execution_count": 0,
      "outputs": []
    },
    {
      "cell_type": "code",
      "metadata": {
        "colab_type": "code",
        "id": "m8XtHpOmcgLU",
        "colab": {}
      },
      "source": [
        "# И класс терминального узла (листа)\n",
        "\n",
        "class Leaf:\n",
        "    \n",
        "    def __init__(self, data, labels):\n",
        "        self.data = data\n",
        "        self.labels = labels\n",
        "        self.prediction = self.predict()\n",
        "        \n",
        "    def predict(self):\n",
        "        # подсчет количества объектов разных классов\n",
        "        classes = {}  # сформируем словарь \"класс: количество объектов\"\n",
        "        for label in self.labels:\n",
        "            if label not in classes:\n",
        "                classes[label] = 0\n",
        "            classes[label] += 1\n",
        "        #  найдем класс, количество объектов которого будет максимальным в этом листе и вернем его    \n",
        "        prediction = max(classes, key=classes.get)\n",
        "        return prediction        "
      ],
      "execution_count": 0,
      "outputs": []
    },
    {
      "cell_type": "code",
      "metadata": {
        "colab_type": "code",
        "id": "VVbzBZNLcgLW",
        "colab": {}
      },
      "source": [
        "# Расчет критерия Джини\n",
        "\n",
        "def gini(labels):\n",
        "    #  подсчет количества объектов разных классов\n",
        "    classes = {}\n",
        "    for label in labels:\n",
        "        if label not in classes:\n",
        "            classes[label] = 0\n",
        "        classes[label] += 1\n",
        "    \n",
        "    #  расчет критерия\n",
        "    impurity = 1\n",
        "    for label in classes:\n",
        "        p = classes[label] / len(labels)\n",
        "        impurity -= p ** 2\n",
        "        \n",
        "    return impurity"
      ],
      "execution_count": 0,
      "outputs": []
    },
    {
      "cell_type": "code",
      "metadata": {
        "colab_type": "code",
        "id": "TAYkq4_vcgLY",
        "colab": {}
      },
      "source": [
        "# Расчет качества\n",
        "\n",
        "def quality(left_labels, right_labels, current_gini):\n",
        "\n",
        "    # доля выбоки, ушедшая в левое поддерево\n",
        "    p = float(left_labels.shape[0]) / (left_labels.shape[0] + right_labels.shape[0])\n",
        "    \n",
        "    return current_gini - p * gini(left_labels) - (1 - p) * gini(right_labels)"
      ],
      "execution_count": 0,
      "outputs": []
    },
    {
      "cell_type": "code",
      "metadata": {
        "colab_type": "code",
        "id": "hQTmbYkBcgLZ",
        "colab": {}
      },
      "source": [
        "# Разбиение датасета в узле\n",
        "\n",
        "def split(data, labels, index, t):\n",
        "    \n",
        "    left = np.where(data[:, index] <= t)\n",
        "    right = np.where(data[:, index] > t)\n",
        "        \n",
        "    true_data = data[left]\n",
        "    false_data = data[right]\n",
        "    true_labels = labels[left]\n",
        "    false_labels = labels[right]\n",
        "        \n",
        "    return true_data, false_data, true_labels, false_labels"
      ],
      "execution_count": 0,
      "outputs": []
    },
    {
      "cell_type": "code",
      "metadata": {
        "colab_type": "code",
        "id": "FAUIWmjqcgLb",
        "colab": {}
      },
      "source": [
        "# Нахождение наилучшего разбиения\n",
        "\n",
        "def find_best_split(data, labels):\n",
        "    \n",
        "    #  обозначим минимальное количество объектов в узле\n",
        "    min_leaf = 1\n",
        "\n",
        "    current_gini = gini(labels)\n",
        "\n",
        "    best_quality = 0\n",
        "    best_t = None\n",
        "    best_index = None\n",
        "    \n",
        "    n_features = data.shape[1]\n",
        "    \n",
        "    # выбор индекса из подвыборки длиной sqrt(n_features)\n",
        "    subsample = get_subsample(n_features)\n",
        "    \n",
        "    for index in subsample:\n",
        "        # будем проверять только уникальные значения признака, исключая повторения\n",
        "        t_values = np.unique([row[index] for row in data])\n",
        "        \n",
        "        for t in t_values:\n",
        "            true_data, false_data, true_labels, false_labels = split(data, labels, index, t)\n",
        "            #  пропускаем разбиения, в которых в узле остается менее 5 объектов\n",
        "            if len(true_data) < min_leaf or len(false_data) < min_leaf:\n",
        "                continue\n",
        "            \n",
        "            current_quality = quality(true_labels, false_labels, current_gini)\n",
        "            \n",
        "            #  выбираем порог, на котором получается максимальный прирост качества\n",
        "            if current_quality > best_quality:\n",
        "                best_quality, best_t, best_index = current_quality, t, index\n",
        "\n",
        "    return best_quality, best_t, best_index"
      ],
      "execution_count": 0,
      "outputs": []
    },
    {
      "cell_type": "code",
      "metadata": {
        "colab_type": "code",
        "id": "lNKR5MxlcgLf",
        "colab": {}
      },
      "source": [
        "# Построение дерева с помощью рекурсивной функции\n",
        "\n",
        "def build_tree(data, labels):\n",
        "\n",
        "    quality, t, index = find_best_split(data, labels)\n",
        "\n",
        "    #  Базовый случай - прекращаем рекурсию, когда нет прироста в качества\n",
        "    if quality == 0:\n",
        "        return Leaf(data, labels)\n",
        "\n",
        "    true_data, false_data, true_labels, false_labels = split(data, labels, index, t)\n",
        "\n",
        "    # Рекурсивно строим два поддерева\n",
        "    true_branch = build_tree(true_data, true_labels)\n",
        "    false_branch = build_tree(false_data, false_labels)\n",
        "\n",
        "    # Возвращаем класс узла со всеми поддеревьями, то есть целого дерева\n",
        "    return Node(index, t, true_branch, false_branch)"
      ],
      "execution_count": 0,
      "outputs": []
    },
    {
      "cell_type": "code",
      "metadata": {
        "colab_type": "code",
        "id": "twxIf9c8cgLh",
        "colab": {}
      },
      "source": [
        "def random_forest(data, labels, n_trees):\n",
        "    forest = []\n",
        "    bootstrap = get_bootstrap(data, labels, n_trees)\n",
        "    \n",
        "    for b_data, b_labels, missed_labels in bootstrap:\n",
        "        forest.append((build_tree(b_data, b_labels), missed_labels))\n",
        "        \n",
        "    return forest"
      ],
      "execution_count": 0,
      "outputs": []
    },
    {
      "cell_type": "code",
      "metadata": {
        "colab_type": "code",
        "id": "hDodI_TDcgLj",
        "colab": {}
      },
      "source": [
        "# Функция классификации отдельного объекта\n",
        "\n",
        "def classify_object(obj, node):\n",
        "\n",
        "    #  Останавливаем рекурсию, если достигли листа\n",
        "    if isinstance(node, Leaf):\n",
        "        answer = node.prediction\n",
        "        return answer\n",
        "    if obj[node.index] <= node.t:\n",
        "        return classify_object(obj, node.true_branch)\n",
        "    else:\n",
        "        return classify_object(obj, node.false_branch)"
      ],
      "execution_count": 0,
      "outputs": []
    },
    {
      "cell_type": "code",
      "metadata": {
        "colab_type": "code",
        "id": "6J5fbPlucgLn",
        "colab": {}
      },
      "source": [
        "# функция формирования предсказания по выборке на одном дереве\n",
        "\n",
        "def predict(data, tree):\n",
        "    \n",
        "    classes = []\n",
        "    for obj in data:\n",
        "        prediction = classify_object(obj, tree)\n",
        "        classes.append(prediction)\n",
        "    return classes"
      ],
      "execution_count": 0,
      "outputs": []
    },
    {
      "cell_type": "code",
      "metadata": {
        "colab_type": "code",
        "id": "KU8S_5TgcgLo",
        "colab": {}
      },
      "source": [
        "# предсказание голосованием деревьев\n",
        "\n",
        "def tree_vote_oob(forest, data):\n",
        "    predictions = [[] for i in range(data.shape[0])]\n",
        "    for index, obj in enumerate(data):\n",
        "        for forest_with_missed_values in forest:\n",
        "          missed_values = forest_with_missed_values[1]\n",
        "          tree = forest_with_missed_values[0]\n",
        "          if index in missed_values[0]:\n",
        "            prediction = classify_object(obj,tree)\n",
        "            predictions[index].append(prediction)\n",
        "    return predictions"
      ],
      "execution_count": 0,
      "outputs": []
    },
    {
      "cell_type": "code",
      "metadata": {
        "id": "6qx4rH56tgW_",
        "colab_type": "code",
        "colab": {}
      },
      "source": [
        "def oob_metric(oob_answers, train_labels): #MSE\n",
        "  errors = []\n",
        "  for i in range(0, len(oob_answers)):\n",
        "    mean_missed_trees = np.mean(np.array(oob_answers[i]))\n",
        "    errors.append((train_labels[i]-mean_missed_trees)**2)\n",
        "  return np.mean(errors)"
      ],
      "execution_count": 0,
      "outputs": []
    },
    {
      "cell_type": "code",
      "metadata": {
        "id": "kBVavcHhmOzi",
        "colab_type": "code",
        "colab": {
          "base_uri": "https://localhost:8080/",
          "height": 34
        },
        "outputId": "8f7066a2-47e7-4d42-cb87-852d24092051"
      },
      "source": [
        "rf2 = random_forest(train_data, train_labels,10)\n",
        "# Получим ответы для обучающей выборки \n",
        "train_oob_answers = tree_vote_oob(rf2, train_data)\n",
        "oob_metric_value = oob_metric(train_oob_answers, train_labels)\n",
        "\n",
        "print(f\"MSE OOB {oob_metric_value}\")"
      ],
      "execution_count": 210,
      "outputs": [
        {
          "output_type": "stream",
          "text": [
            "MSE OOB 0.06377777777777778\n"
          ],
          "name": "stdout"
        }
      ]
    },
    {
      "cell_type": "markdown",
      "metadata": {
        "id": "AXXt8ZpAbIWs",
        "colab_type": "text"
      },
      "source": [
        "\n",
        "3. (На повторение) Переписать функцию calc_gini из урока про решающие деревья так, чтобы в качестве критерия использовалась энтропия Шэннона. Переименовать функцию в calc_entropy."
      ]
    },
    {
      "cell_type": "code",
      "metadata": {
        "id": "HaCdr98WwA5U",
        "colab_type": "code",
        "colab": {}
      },
      "source": [
        "def gini(labels):\n",
        "    #  подсчет количества объектов разных классов\n",
        "    classes = {}\n",
        "    for label in labels:\n",
        "        if label not in classes:\n",
        "            classes[label] = 0\n",
        "        classes[label] += 1\n",
        "    \n",
        "    #  расчет критерия\n",
        "    impurity = 1\n",
        "    for label in classes:\n",
        "        p = classes[label] / len(labels)\n",
        "        impurity -= p ** 2\n",
        "        \n",
        "    return impurity"
      ],
      "execution_count": 0,
      "outputs": []
    },
    {
      "cell_type": "code",
      "metadata": {
        "id": "XzwETZb5wIKw",
        "colab_type": "code",
        "colab": {
          "base_uri": "https://localhost:8080/",
          "height": 34
        },
        "outputId": "5c7a1cd3-6b84-4b5f-cda0-3519c71bb775"
      },
      "source": [
        "def calc_entropy(labels):\n",
        "    prob_dict = {x:labels.count(x)/len(labels) for x in labels}\n",
        "    probs = np.array(list(prob_dict.values()))\n",
        "\n",
        "    return - probs.dot(np.log2(probs))\n",
        "\n",
        "calc_entropy([1,2,3,2,2,4,5])"
      ],
      "execution_count": 214,
      "outputs": [
        {
          "output_type": "execute_result",
          "data": {
            "text/plain": [
              "2.1280852788913944"
            ]
          },
          "metadata": {
            "tags": []
          },
          "execution_count": 214
        }
      ]
    }
  ]
}