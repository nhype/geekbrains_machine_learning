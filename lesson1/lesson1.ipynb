{
  "nbformat": 4,
  "nbformat_minor": 0,
  "metadata": {
    "colab": {
      "name": "lesson1.ipynb",
      "provenance": [],
      "collapsed_sections": []
    },
    "kernelspec": {
      "display_name": "Python 3",
      "language": "python",
      "name": "python3"
    },
    "language_info": {
      "codemirror_mode": {
        "name": "ipython",
        "version": 3
      },
      "file_extension": ".py",
      "mimetype": "text/x-python",
      "name": "python",
      "nbconvert_exporter": "python",
      "pygments_lexer": "ipython3",
      "version": "3.6.9"
    }
  },
  "cells": [
    {
      "cell_type": "code",
      "metadata": {
        "colab_type": "code",
        "id": "ak8b3KV45kVW",
        "colab": {}
      },
      "source": [
        "import numpy as np\n",
        "import matplotlib.pyplot as plt"
      ],
      "execution_count": 0,
      "outputs": []
    },
    {
      "cell_type": "code",
      "metadata": {
        "colab_type": "code",
        "id": "i77tZbAd5plB",
        "colab": {}
      },
      "source": [
        "X = np.array([[1, 1, 1, 1, 1, 1, 1, 1, 1, 1],\n",
        "              [1, 1, 2, 1, 3, 0, 5, 10, 1, 2]])"
      ],
      "execution_count": 0,
      "outputs": []
    },
    {
      "cell_type": "code",
      "metadata": {
        "colab_type": "code",
        "id": "VsNrKi1Q6Wmh",
        "colab": {}
      },
      "source": [
        "y = [45, 55, 50, 59, 65, 35, 75, 80, 50, 60]"
      ],
      "execution_count": 0,
      "outputs": []
    },
    {
      "cell_type": "markdown",
      "metadata": {
        "colab_type": "text",
        "id": "R4zHyZ2Da5HV"
      },
      "source": [
        "Метод наименьших квадратов"
      ]
    },
    {
      "cell_type": "code",
      "metadata": {
        "colab_type": "code",
        "id": "mnyZzkaDBegD",
        "outputId": "911099d1-8f0a-4eab-9902-d56af7de947f",
        "colab": {
          "base_uri": "https://localhost:8080/",
          "height": 34
        }
      },
      "source": [
        "W = np.linalg.inv(X @ X.T) @ X @ y\n",
        "W"
      ],
      "execution_count": 46,
      "outputs": [
        {
          "output_type": "execute_result",
          "data": {
            "text/plain": [
              "array([47.23214286,  3.91071429])"
            ]
          },
          "metadata": {
            "tags": []
          },
          "execution_count": 46
        }
      ]
    },
    {
      "cell_type": "code",
      "metadata": {
        "colab_type": "code",
        "id": "JTSC2cFnCd8T",
        "colab": {}
      },
      "source": [
        "def calc_mse(y, y_pred):\n",
        "  err = np.mean((y - y_pred)**2)\n",
        "  return err"
      ],
      "execution_count": 0,
      "outputs": []
    },
    {
      "cell_type": "code",
      "metadata": {
        "colab_type": "code",
        "id": "BoU7Rm_1DPQq",
        "colab": {}
      },
      "source": [
        "def calc_mae(y, y_pred):\n",
        "  err = np.mean(np.abs(y - y_pred))\n",
        "  return err"
      ],
      "execution_count": 0,
      "outputs": []
    },
    {
      "cell_type": "markdown",
      "metadata": {
        "colab_type": "text",
        "id": "JAOgIXLRa--g"
      },
      "source": [
        "Градиентный спуск"
      ]
    },
    {
      "cell_type": "markdown",
      "metadata": {
        "colab_type": "text",
        "id": "huXrhXQsZTMt"
      },
      "source": [
        "1. Подберите скорость обучения (alpha) и количество итераций:"
      ]
    },
    {
      "cell_type": "code",
      "metadata": {
        "colab_type": "code",
        "id": "IDB22MQKMYaJ",
        "outputId": "7d674334-1f6e-4f42-dad5-30c723a25325",
        "colab": {
          "base_uri": "https://localhost:8080/",
          "height": 136
        }
      },
      "source": [
        "n = X.shape[1]\n",
        "alpha = 1e-2\n",
        "W = np.array([1, 0.5])\n",
        "W, alpha\n",
        "for i in range(1201):\n",
        "  y_pred = np.dot(W, X)\n",
        "  err = calc_mse(y, y_pred)\n",
        "  for ii in range(W.shape[0]):\n",
        "    W[ii] -= alpha * (1/n * 2 * np.sum(X[ii] * (y_pred - y)))\n",
        "  if i % 200 == 0:\n",
        "    print(i, W, err)\n",
        "\n",
        "#array([47.23214286,  3.91071429])"
      ],
      "execution_count": 66,
      "outputs": [
        {
          "output_type": "stream",
          "text": [
            "0 [2.102 3.9  ] 3173.15\n",
            "200 [41.83683774  4.90699865] 61.9177717428135\n",
            "400 [46.56511152  4.03388672] 46.181755648107604\n",
            "600 [47.14967657  3.92594232] 45.941233404700036\n",
            "800 [47.2219474   3.91259695] 45.93755706443538\n",
            "1000 [47.23088237  3.91094704] 45.937500872219864\n",
            "1200 [47.23198702  3.91074306] 45.93750001333172\n"
          ],
          "name": "stdout"
        }
      ]
    },
    {
      "cell_type": "markdown",
      "metadata": {
        "colab_type": "text",
        "id": "5Qu1o4JhZYwI"
      },
      "source": [
        "*2. В этом коде мы избавляемся от итераций по весам, но тут есть ошибка, исправьте ее:"
      ]
    },
    {
      "cell_type": "code",
      "metadata": {
        "colab_type": "code",
        "id": "WZZzDCQLY4pA",
        "outputId": "7e854b9b-2c4e-4b51-c79d-ff989f973b0e",
        "colab": {
          "base_uri": "https://localhost:8080/",
          "height": 136
        }
      },
      "source": [
        "n = X.shape[1]\n",
        "alpha = 1e-2\n",
        "W = np.array([1, 0.5])\n",
        "for i in range(1201):\n",
        "  y_pred = np.dot(W, X)\n",
        "  err = calc_mse(y, y_pred)\n",
        "  '''for ii in range(W.shape[0]):\n",
        "    W[ii] -= alpha * (1/n * 2 * np.sum(X[ii] * (y_pred - y)))'''\n",
        "  W -= (alpha * (1/n * 2 * np.dot(X, (y_pred - y))))\n",
        "  if i % 200 == 0:\n",
        "    print(i, W, err)"
      ],
      "execution_count": 109,
      "outputs": [
        {
          "output_type": "stream",
          "text": [
            "0 [2.102 3.9  ] 3173.15\n",
            "200 [41.83683774  4.90699865] 61.9177717428135\n",
            "400 [46.56511152  4.03388672] 46.181755648107604\n",
            "600 [47.14967657  3.92594232] 45.941233404700036\n",
            "800 [47.2219474   3.91259695] 45.93755706443538\n",
            "1000 [47.23088237  3.91094704] 45.937500872219864\n",
            "1200 [47.23198702  3.91074306] 45.93750001333172\n"
          ],
          "name": "stdout"
        }
      ]
    },
    {
      "cell_type": "markdown",
      "metadata": {
        "id": "8YjFGztd89Zf",
        "colab_type": "text"
      },
      "source": [
        "Вместо того, чтобы задавать количество итераций, задайте условие остановки алгоритма - когда ошибка за итерацию\n",
        "начинает изменяться ниже определенного порога (упрощенный аналог параметра tol в линейной регрессии в sklearn)."
      ]
    },
    {
      "cell_type": "code",
      "metadata": {
        "colab_type": "code",
        "id": "_OQ4arrXMYGb",
        "colab": {
          "base_uri": "https://localhost:8080/",
          "height": 119
        },
        "outputId": "34f44151-e703-40e8-86cd-b9eacb5ea115"
      },
      "source": [
        "n = X.shape[1]\n",
        "alpha = 1e-2\n",
        "W = np.array([1, 0.5])\n",
        "tol = 1e-6\n",
        "go = True\n",
        "i=0\n",
        "while go:\n",
        "  y_pred = np.dot(W, X)\n",
        "  err = calc_mse(y, y_pred)\n",
        "  if i == 0:\n",
        "    prev_error = err\n",
        "  elif abs(err-prev_error) <= tol:\n",
        "    break\n",
        "  else:\n",
        "    prev_error = err\n",
        "  '''for ii in range(W.shape[0]):\n",
        "    W[ii] -= alpha * (1/n * 2 * np.sum(X[ii] * (y_pred - y)))'''\n",
        "  W -= (alpha * (1/n * 2 * np.dot(X, (y_pred - y))))\n",
        "  if i % 200 == 0:\n",
        "    print(i, W, err)\n",
        "  i+=1\n",
        "print(\"Finally \", i, W, err, abs(err-prev_error))"
      ],
      "execution_count": 118,
      "outputs": [
        {
          "output_type": "stream",
          "text": [
            "0 [2.102 3.9  ] 3173.15\n",
            "200 [41.83683774  4.90699865] 61.9177717428135\n",
            "400 [46.56511152  4.03388672] 46.181755648107604\n",
            "600 [47.14967657  3.92594232] 45.941233404700036\n",
            "800 [47.2219474   3.91259695] 45.93755706443538\n",
            "Finally  809 [47.22276525  3.91244593] 45.937547277798465 9.987200257910445e-07\n"
          ],
          "name": "stdout"
        }
      ]
    }
  ]
}