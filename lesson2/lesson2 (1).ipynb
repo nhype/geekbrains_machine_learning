{
  "nbformat": 4,
  "nbformat_minor": 0,
  "metadata": {
    "colab": {
      "name": "lesson2.ipynb",
      "provenance": [],
      "collapsed_sections": []
    },
    "kernelspec": {
      "display_name": "Python 3",
      "language": "python",
      "name": "python3"
    },
    "language_info": {
      "codemirror_mode": {
        "name": "ipython",
        "version": 3
      },
      "file_extension": ".py",
      "mimetype": "text/x-python",
      "name": "python",
      "nbconvert_exporter": "python",
      "pygments_lexer": "ipython3",
      "version": "3.6.9"
    }
  },
  "cells": [
    {
      "cell_type": "code",
      "metadata": {
        "colab_type": "code",
        "id": "_u5bV-OlT34p",
        "colab": {}
      },
      "source": [
        "import numpy as np\n",
        "import matplotlib.pyplot as plt"
      ],
      "execution_count": 0,
      "outputs": []
    },
    {
      "cell_type": "markdown",
      "metadata": {
        "id": "7jYETebb-MP8",
        "colab_type": "text"
      },
      "source": [
        "Домашняя работа"
      ]
    },
    {
      "cell_type": "code",
      "metadata": {
        "id": "c7olPE-V-8RX",
        "colab_type": "code",
        "colab": {}
      },
      "source": [
        "# К признаку стажа добавим признаки: средняя стоимость занятия,\n",
        "# квалификация репетитора\n",
        "import numpy as np\n",
        "from matplotlib import pyplot as plt\n",
        "X = np.array([[1, 1, 1, 1, 1, 1, 1, 1, 1, 1],\n",
        "              [1, 1, 2, 1, 3, 0, 5, 10, 1, 2],\n",
        "              [500, 700, 750, 600, 1450,\n",
        "               800, 1500, 2000, 450, 1000],\n",
        "              [1, 1, 2, 1, 2, \n",
        "               1, 3, 3, 1, 2]])\n",
        "\n",
        "y = [45, 55, 50, 59, 65,\n",
        "    35, 75, 80, 50, 60]\n",
        "def calc_std_feat(x):\n",
        "  res = (x - x.mean()) / x.std()\n",
        "  return res\n",
        "X_st[2] = calc_std_feat(X[2])\n",
        "X_st[3] = calc_std_feat(X[3])\n",
        "\n",
        "def calc_mse(y, y_pred):\n",
        "  err = np.mean((y - y_pred)**2)\n",
        "  return err\n",
        "\n",
        "def eval_model_reg2(X, y, iterations, alpha=1e-4, lambda_=1e-8, printing=True):\n",
        "  np.random.seed(42)\n",
        "  W = np.random.randn(X.shape[0])\n",
        "  n = X.shape[1]\n",
        "  for i in range(1, iterations+1):\n",
        "    y_pred = np.dot(W, X)\n",
        "    err = calc_mse(y, y_pred)\n",
        "    W -= alpha * (1/n * 2 * np.dot((y_pred - y), X.T) + lambda_ * W) \n",
        "    if printing:\n",
        "      if i % (iterations / 10) == 0:\n",
        "        print(i, W, err)\n",
        "  return W"
      ],
      "execution_count": 0,
      "outputs": []
    },
    {
      "cell_type": "markdown",
      "metadata": {
        "id": "G-KxAHS5-OV-",
        "colab_type": "text"
      },
      "source": [
        "1. Постройте график зависимости весов всех признаков от lambda в L2-регуляризации (на данных из урока)."
      ]
    },
    {
      "cell_type": "code",
      "metadata": {
        "id": "jbBQmOmQ-4Hs",
        "colab_type": "code",
        "outputId": "0f829e3d-5c62-4490-9dce-30510410137d",
        "colab": {
          "base_uri": "https://localhost:8080/",
          "height": 371
        }
      },
      "source": [
        "lambda_ = 1e-1\n",
        "points = 5\n",
        "weights = np.zeros((points, X_st.shape[0]))\n",
        "lambdas = []\n",
        "for i in range(points):\n",
        "  print(\"Lambda\", lambda_)\n",
        "  weights[i] = eval_model_reg2(X_st, y, iterations=5000, alpha=1e-2, lambda_=lambda_, printing=False)\n",
        "  lambdas.append(lambda_)\n",
        "  lambda_/=10\n",
        "\n",
        "plt.plot(lambdas, weights)\n",
        "plt.xscale('log')\n",
        "plt.ylabel('Coeffs')\n",
        "plt.xlabel('Lambda')\n",
        "plt.show()\n"
      ],
      "execution_count": 69,
      "outputs": [
        {
          "output_type": "stream",
          "text": [
            "Lambda 0.1\n",
            "Lambda 0.01\n",
            "Lambda 0.001\n",
            "Lambda 0.0001\n",
            "Lambda 1e-05\n"
          ],
          "name": "stdout"
        },
        {
          "output_type": "display_data",
          "data": {
            "image/png": "[encoded data removed]",
            "text/plain": [
              "<Figure size 432x288 with 1 Axes>"
            ]
          },
          "metadata": {
            "tags": [],
            "needs_background": "light"
          }
        }
      ]
    },
    {
      "cell_type": "markdown",
      "metadata": {
        "id": "yMONa7u9KznY",
        "colab_type": "text"
      },
      "source": [
        "2. Можно ли к одному и тому же признаку применить сразу и нормализацию, и стандартизацию?"
      ]
    },
    {
      "cell_type": "markdown",
      "metadata": {
        "id": "r2cZ3tfXLm9c",
        "colab_type": "text"
      },
      "source": [
        "Нет, так мы исказим значения наших features"
      ]
    },
    {
      "cell_type": "markdown",
      "metadata": {
        "id": "nweR0qGZLwE9",
        "colab_type": "text"
      },
      "source": [
        "3*. Напишите функцию наподобие eval_model_reg2, но для применения L1-регуляризации."
      ]
    },
    {
      "cell_type": "code",
      "metadata": {
        "id": "wPlyNGulLl5t",
        "colab_type": "code",
        "colab": {
          "base_uri": "https://localhost:8080/",
          "height": 204
        },
        "outputId": "b203b245-519a-48ae-acdd-44e348c14fe1"
      },
      "source": [
        "\n",
        "def eval_model_reg1(X, y, iterations, alpha=1e-4, lambda_=1e-8, printing=True):\n",
        "  np.random.seed(42)\n",
        "  W = np.random.randn(X.shape[0])\n",
        "  n = X.shape[1]\n",
        "  for i in range(1, iterations+1):\n",
        "    y_pred = np.dot(W, X)\n",
        "    err = calc_mse(y, y_pred)\n",
        "    W -= alpha * (1/n * 2 * np.dot((y_pred - y), X.T) + lambda_/2 * np.sign(W)) #производная от модуля будет |x|/x , то есть знак переменной. Также появляется lambda_/2 потому что мы использовали lambda_/2 при добавлении к f(x,W) \n",
        "    if printing:\n",
        "      if i % (iterations / 10) == 0:\n",
        "        print(i, W, err)\n",
        "  return W\n",
        "\n",
        "eval_model_reg1(X_st, y, iterations=5000, alpha=1e-2, lambda_=lambda_)"
      ],
      "execution_count": 72,
      "outputs": [
        {
          "output_type": "stream",
          "text": [
            "500 [57.39766535  5.10794273  2.46013447  4.08693796] 39.98154848730532\n",
            "1000 [57.39999965  5.76653136  1.85622314  4.03914627] 39.807122580612045\n",
            "1500 [57.39999975  5.99153666  1.60432657  4.06912257] 39.782340658769705\n",
            "2000 [57.39999975  6.07258423  1.50040888  4.09331586] 39.77848906004731\n",
            "2500 [57.39999975  6.10298563  1.45781118  4.10606663] 39.777867718950596\n",
            "3000 [57.39999975  6.1147208   1.44041495  4.11195705] 39.77776605547384\n",
            "3500 [57.39999975  6.11933798  1.43332636  4.11452262] 39.777749334831995\n",
            "4000 [57.39999975  6.12117697  1.43044171  4.11560677] 39.77774657960818\n",
            "4500 [57.39999975  6.12191504  1.42926876  4.11605735] 39.777746125293405\n",
            "5000 [57.39999975  6.12221265  1.42879203  4.11624284] 39.777746050361124\n"
          ],
          "name": "stdout"
        },
        {
          "output_type": "execute_result",
          "data": {
            "text/plain": [
              "array([57.39999975,  6.12221265,  1.42879203,  4.11624284])"
            ]
          },
          "metadata": {
            "tags": []
          },
          "execution_count": 72
        }
      ]
    }
  ]
}